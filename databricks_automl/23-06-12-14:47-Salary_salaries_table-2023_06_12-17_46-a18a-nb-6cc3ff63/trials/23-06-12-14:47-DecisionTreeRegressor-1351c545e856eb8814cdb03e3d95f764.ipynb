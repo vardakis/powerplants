{
 "cells": [
  {
   "cell_type": "markdown",
   "metadata": {
    "application/vnd.databricks.v1+cell": {
     "cellMetadata": {},
     "inputWidgets": {},
     "nuid": "ae351e0c-d337-4bde-b5aa-3580310d512c",
     "showTitle": false,
     "title": ""
    }
   },
   "source": [
    "# Decision Tree Regressor training\n",
    "- This is an auto-generated notebook.\n",
    "- To reproduce these results, attach this notebook to a cluster with runtime version **13.1.x-cpu-ml-scala2.12**, and rerun it.\n",
    "- Compare trials in the [MLflow experiment](#mlflow/experiments/477090849205139).\n",
    "- Clone this notebook into your project folder by selecting **File > Clone** in the notebook toolbar."
   ]
  },
  {
   "cell_type": "code",
   "execution_count": 0,
   "metadata": {
    "application/vnd.databricks.v1+cell": {
     "cellMetadata": {},
     "inputWidgets": {},
     "nuid": "3a325fba-87b1-47ad-8d5e-630c87602e81",
     "showTitle": false,
     "title": ""
    },
    "execution": {
     "iopub.execute_input": "2023-06-12T14:49:40.826078Z",
     "iopub.status.busy": "2023-06-12T14:49:40.824750Z",
     "iopub.status.idle": "2023-06-12T14:49:40.833661Z",
     "shell.execute_reply": "2023-06-12T14:49:40.833072Z"
    }
   },
   "outputs": [],
   "source": [
    "import mlflow\n",
    "import databricks.automl_runtime\n",
    "\n",
    "target_col = \"Salary\""
   ]
  },
  {
   "cell_type": "markdown",
   "metadata": {
    "application/vnd.databricks.v1+cell": {
     "cellMetadata": {},
     "inputWidgets": {},
     "nuid": "381218c1-4c50-498e-a19d-fb00902fb98c",
     "showTitle": false,
     "title": ""
    }
   },
   "source": [
    "## Load Data"
   ]
  },
  {
   "cell_type": "code",
   "execution_count": 0,
   "metadata": {
    "application/vnd.databricks.v1+cell": {
     "cellMetadata": {},
     "inputWidgets": {},
     "nuid": "24bbccc1-9ffe-44be-87ed-5b9ce8d07f68",
     "showTitle": false,
     "title": ""
    },
    "execution": {
     "iopub.execute_input": "2023-06-12T14:49:40.838493Z",
     "iopub.status.busy": "2023-06-12T14:49:40.837567Z",
     "iopub.status.idle": "2023-06-12T14:49:41.679765Z",
     "shell.execute_reply": "2023-06-12T14:49:41.679057Z"
    }
   },
   "outputs": [],
   "source": [
    "import mlflow\n",
    "import os\n",
    "import uuid\n",
    "import shutil\n",
    "import pandas as pd\n",
    "\n",
    "# Create temp directory to download input data from MLflow\n",
    "input_temp_dir = os.path.join(os.environ[\"SPARK_LOCAL_DIRS\"], \"tmp\", str(uuid.uuid4())[:8])\n",
    "os.makedirs(input_temp_dir)\n",
    "\n",
    "\n",
    "# Download the artifact and read it into a pandas DataFrame\n",
    "input_data_path = mlflow.artifacts.download_artifacts(run_id=\"65cec67efb9947feacf0eee157054e0c\", artifact_path=\"data\", dst_path=input_temp_dir)\n",
    "\n",
    "df_loaded = pd.read_parquet(os.path.join(input_data_path, \"training_data\"))\n",
    "# Delete the temp data\n",
    "shutil.rmtree(input_temp_dir)\n",
    "\n",
    "# Preview data\n",
    "df_loaded.head(5)"
   ]
  },
  {
   "cell_type": "markdown",
   "metadata": {
    "application/vnd.databricks.v1+cell": {
     "cellMetadata": {},
     "inputWidgets": {},
     "nuid": "75d1086d-6013-4c57-862f-68ad1c0b49f6",
     "showTitle": false,
     "title": ""
    }
   },
   "source": [
    "### Select supported columns\n",
    "Select only the columns that are supported. This allows us to train a model that can predict on a dataset that has extra columns that are not used in training.\n",
    "`[\"Position\"]` are dropped in the pipelines. See the Alerts tab of the AutoML Experiment page for details on why these columns are dropped."
   ]
  },
  {
   "cell_type": "code",
   "execution_count": 0,
   "metadata": {
    "application/vnd.databricks.v1+cell": {
     "cellMetadata": {},
     "inputWidgets": {},
     "nuid": "c3106dd4-807d-4df8-b54f-cbeea02326f8",
     "showTitle": false,
     "title": ""
    },
    "execution": {
     "iopub.execute_input": "2023-06-12T14:49:41.685729Z",
     "iopub.status.busy": "2023-06-12T14:49:41.684353Z",
     "iopub.status.idle": "2023-06-12T14:49:42.322114Z",
     "shell.execute_reply": "2023-06-12T14:49:42.321144Z"
    }
   },
   "outputs": [],
   "source": [
    "from databricks.automl_runtime.sklearn.column_selector import ColumnSelector\n",
    "supported_cols = [\"Level\"]\n",
    "col_selector = ColumnSelector(supported_cols)"
   ]
  },
  {
   "cell_type": "markdown",
   "metadata": {
    "application/vnd.databricks.v1+cell": {
     "cellMetadata": {},
     "inputWidgets": {},
     "nuid": "558b33a0-0705-4901-bf1d-cbca06f0b9d4",
     "showTitle": false,
     "title": ""
    }
   },
   "source": [
    "## Preprocessors"
   ]
  },
  {
   "cell_type": "markdown",
   "metadata": {
    "application/vnd.databricks.v1+cell": {
     "cellMetadata": {},
     "inputWidgets": {},
     "nuid": "99c8073c-12d9-468b-93da-0e3526ba08d6",
     "showTitle": false,
     "title": ""
    }
   },
   "source": [
    "### Numerical columns\n",
    "\n",
    "Missing values for numerical columns are imputed with mean by default."
   ]
  },
  {
   "cell_type": "code",
   "execution_count": 0,
   "metadata": {
    "application/vnd.databricks.v1+cell": {
     "cellMetadata": {},
     "inputWidgets": {},
     "nuid": "6c83db04-b69f-44ba-9c59-4ab9e94aaa80",
     "showTitle": false,
     "title": ""
    },
    "execution": {
     "iopub.execute_input": "2023-06-12T14:49:42.326522Z",
     "iopub.status.busy": "2023-06-12T14:49:42.326290Z",
     "iopub.status.idle": "2023-06-12T14:49:42.333633Z",
     "shell.execute_reply": "2023-06-12T14:49:42.332835Z"
    }
   },
   "outputs": [],
   "source": [
    "from sklearn.compose import ColumnTransformer\n",
    "from sklearn.impute import SimpleImputer\n",
    "from sklearn.pipeline import Pipeline\n",
    "from sklearn.preprocessing import FunctionTransformer, StandardScaler\n",
    "\n",
    "num_imputers = []\n",
    "num_imputers.append((\"impute_mean\", SimpleImputer(), [\"Level\"]))\n",
    "\n",
    "numerical_pipeline = Pipeline(steps=[\n",
    "    (\"converter\", FunctionTransformer(lambda df: df.apply(pd.to_numeric, errors='coerce'))),\n",
    "    (\"imputers\", ColumnTransformer(num_imputers)),\n",
    "    (\"standardizer\", StandardScaler()),\n",
    "])\n",
    "\n",
    "numerical_transformers = [(\"numerical\", numerical_pipeline, [\"Level\"])]"
   ]
  },
  {
   "cell_type": "markdown",
   "metadata": {
    "application/vnd.databricks.v1+cell": {
     "cellMetadata": {},
     "inputWidgets": {},
     "nuid": "43e3a63f-ec8a-4dd4-ba46-8c17e3aa583b",
     "showTitle": false,
     "title": ""
    }
   },
   "source": [
    "### Categorical columns"
   ]
  },
  {
   "cell_type": "markdown",
   "metadata": {
    "application/vnd.databricks.v1+cell": {
     "cellMetadata": {},
     "inputWidgets": {},
     "nuid": "7c83e9e7-8f51-4e3d-84da-e2f589eeebf4",
     "showTitle": false,
     "title": ""
    }
   },
   "source": [
    "#### Low-cardinality categoricals\n",
    "Convert each low-cardinality categorical column into multiple binary columns through one-hot encoding.\n",
    "For each input categorical column (string or numeric), the number of output columns is equal to the number of unique values in the input column."
   ]
  },
  {
   "cell_type": "code",
   "execution_count": 0,
   "metadata": {
    "application/vnd.databricks.v1+cell": {
     "cellMetadata": {},
     "inputWidgets": {},
     "nuid": "d57bdbcd-144b-4a20-ac6c-39d6c19d8e1b",
     "showTitle": false,
     "title": ""
    },
    "execution": {
     "iopub.execute_input": "2023-06-12T14:49:42.337504Z",
     "iopub.status.busy": "2023-06-12T14:49:42.337242Z",
     "iopub.status.idle": "2023-06-12T14:49:42.345573Z",
     "shell.execute_reply": "2023-06-12T14:49:42.343411Z"
    }
   },
   "outputs": [],
   "source": [
    "from databricks.automl_runtime.sklearn import OneHotEncoder\n",
    "from sklearn.compose import ColumnTransformer\n",
    "from sklearn.impute import SimpleImputer\n",
    "from sklearn.pipeline import Pipeline\n",
    "\n",
    "one_hot_imputers = []\n",
    "\n",
    "one_hot_pipeline = Pipeline(steps=[\n",
    "    (\"imputers\", ColumnTransformer(one_hot_imputers, remainder=\"passthrough\")),\n",
    "    (\"one_hot_encoder\", OneHotEncoder(handle_unknown=\"indicator\")),\n",
    "])\n",
    "\n",
    "categorical_one_hot_transformers = [(\"onehot\", one_hot_pipeline, [\"Level\"])]"
   ]
  },
  {
   "cell_type": "code",
   "execution_count": 0,
   "metadata": {
    "application/vnd.databricks.v1+cell": {
     "cellMetadata": {},
     "inputWidgets": {},
     "nuid": "d7d1b60f-de8f-43ca-85e1-5778ca736ce6",
     "showTitle": false,
     "title": ""
    },
    "execution": {
     "iopub.execute_input": "2023-06-12T14:49:42.359133Z",
     "iopub.status.busy": "2023-06-12T14:49:42.358895Z",
     "iopub.status.idle": "2023-06-12T14:49:42.363910Z",
     "shell.execute_reply": "2023-06-12T14:49:42.362955Z"
    }
   },
   "outputs": [],
   "source": [
    "from sklearn.compose import ColumnTransformer\n",
    "\n",
    "transformers = numerical_transformers + categorical_one_hot_transformers\n",
    "\n",
    "preprocessor = ColumnTransformer(transformers, remainder=\"passthrough\", sparse_threshold=1)"
   ]
  },
  {
   "cell_type": "markdown",
   "metadata": {
    "application/vnd.databricks.v1+cell": {
     "cellMetadata": {},
     "inputWidgets": {},
     "nuid": "afbe3a19-a3aa-4134-8c59-967d92a387d5",
     "showTitle": false,
     "title": ""
    }
   },
   "source": [
    "## Train - Validation - Test Split\n",
    "The input data is split by AutoML into 3 sets:\n",
    "- Train (60% of the dataset used to train the model)\n",
    "- Validation (20% of the dataset used to tune the hyperparameters of the model)\n",
    "- Test (20% of the dataset used to report the true performance of the model on an unseen dataset)\n",
    "\n",
    "`_automl_split_col_0000` contains the information of which set a given row belongs to.\n",
    "We use this column to split the dataset into the above 3 sets. \n",
    "The column should not be used for training so it is dropped after split is done."
   ]
  },
  {
   "cell_type": "code",
   "execution_count": 0,
   "metadata": {
    "application/vnd.databricks.v1+cell": {
     "cellMetadata": {},
     "inputWidgets": {},
     "nuid": "c4da2b21-c5bd-4ba6-be33-424fef7caa91",
     "showTitle": false,
     "title": ""
    },
    "execution": {
     "iopub.execute_input": "2023-06-12T14:49:42.367574Z",
     "iopub.status.busy": "2023-06-12T14:49:42.367153Z",
     "iopub.status.idle": "2023-06-12T14:49:42.376528Z",
     "shell.execute_reply": "2023-06-12T14:49:42.375914Z"
    }
   },
   "outputs": [],
   "source": [
    "# AutoML completed train - validation - test split internally and used _automl_split_col_0000 to specify the set\n",
    "split_train_df = df_loaded.loc[df_loaded._automl_split_col_0000 == \"train\"]\n",
    "split_val_df = df_loaded.loc[df_loaded._automl_split_col_0000 == \"val\"]\n",
    "split_test_df = df_loaded.loc[df_loaded._automl_split_col_0000 == \"test\"]\n",
    "\n",
    "# Separate target column from features and drop _automl_split_col_0000\n",
    "X_train = split_train_df.drop([target_col, \"_automl_split_col_0000\"], axis=1)\n",
    "y_train = split_train_df[target_col]\n",
    "\n",
    "X_val = split_val_df.drop([target_col, \"_automl_split_col_0000\"], axis=1)\n",
    "y_val = split_val_df[target_col]\n",
    "\n",
    "X_test = split_test_df.drop([target_col, \"_automl_split_col_0000\"], axis=1)\n",
    "y_test = split_test_df[target_col]"
   ]
  },
  {
   "cell_type": "markdown",
   "metadata": {
    "application/vnd.databricks.v1+cell": {
     "cellMetadata": {},
     "inputWidgets": {},
     "nuid": "c284458e-88f6-4ab2-8071-bdd5f8aefb16",
     "showTitle": false,
     "title": ""
    }
   },
   "source": [
    "## Train regression model\n",
    "- Log relevant metrics to MLflow to track runs\n",
    "- All the runs are logged under [this MLflow experiment](#mlflow/experiments/477090849205139)\n",
    "- Change the model parameters and re-run the training cell to log a different trial to the MLflow experiment\n",
    "- To view the full list of tunable hyperparameters, check the output of the cell below"
   ]
  },
  {
   "cell_type": "code",
   "execution_count": 0,
   "metadata": {
    "application/vnd.databricks.v1+cell": {
     "cellMetadata": {},
     "inputWidgets": {},
     "nuid": "b882488e-44a7-4851-be61-c655c2b1d33c",
     "showTitle": false,
     "title": ""
    },
    "execution": {
     "iopub.execute_input": "2023-06-12T14:49:42.380146Z",
     "iopub.status.busy": "2023-06-12T14:49:42.379650Z",
     "iopub.status.idle": "2023-06-12T14:49:42.394649Z",
     "shell.execute_reply": "2023-06-12T14:49:42.394015Z"
    }
   },
   "outputs": [],
   "source": [
    "from sklearn.tree import DecisionTreeRegressor\n",
    "\n",
    "help(DecisionTreeRegressor)"
   ]
  },
  {
   "cell_type": "markdown",
   "metadata": {
    "application/vnd.databricks.v1+cell": {
     "cellMetadata": {},
     "inputWidgets": {},
     "nuid": "a97e4782-7ce1-41eb-9c0c-d7b70d758528",
     "showTitle": false,
     "title": ""
    }
   },
   "source": [
    "### Define the objective function\n",
    "The objective function used to find optimal hyperparameters. By default, this notebook only runs\n",
    "this function once (`max_evals=1` in the `hyperopt.fmin` invocation) with fixed hyperparameters, but\n",
    "hyperparameters can be tuned by modifying `space`, defined below. `hyperopt.fmin` will then use this\n",
    "function's return value to search the space to minimize the loss."
   ]
  },
  {
   "cell_type": "code",
   "execution_count": 0,
   "metadata": {
    "application/vnd.databricks.v1+cell": {
     "cellMetadata": {},
     "inputWidgets": {},
     "nuid": "abb41e9f-773c-45a0-a03d-d5e6d5c160b6",
     "showTitle": false,
     "title": ""
    },
    "execution": {
     "iopub.execute_input": "2023-06-12T14:49:42.398530Z",
     "iopub.status.busy": "2023-06-12T14:49:42.398043Z",
     "iopub.status.idle": "2023-06-12T14:49:42.537331Z",
     "shell.execute_reply": "2023-06-12T14:49:42.536662Z"
    }
   },
   "outputs": [],
   "source": [
    "import mlflow\n",
    "from mlflow.models import Model, infer_signature, ModelSignature\n",
    "from mlflow.pyfunc import PyFuncModel\n",
    "from mlflow import pyfunc\n",
    "import sklearn\n",
    "from sklearn import set_config\n",
    "from sklearn.pipeline import Pipeline\n",
    "from hyperopt import hp, tpe, fmin, STATUS_OK, Trials\n",
    "\n",
    "\n",
    "def objective(params):\n",
    "  with mlflow.start_run(experiment_id=\"477090849205139\") as mlflow_run:\n",
    "    skdt_regressor = DecisionTreeRegressor(**params)\n",
    "\n",
    "    model = Pipeline([\n",
    "        (\"column_selector\", col_selector),\n",
    "        (\"preprocessor\", preprocessor),\n",
    "        (\"regressor\", skdt_regressor),\n",
    "    ])\n",
    "\n",
    "    # Enable automatic logging of input samples, metrics, parameters, and models\n",
    "    mlflow.sklearn.autolog(\n",
    "        log_input_examples=True,\n",
    "        silent=True,\n",
    "    )\n",
    "\n",
    "    model.fit(X_train, y_train)\n",
    "\n",
    "    \n",
    "    # Log metrics for the training set\n",
    "    mlflow_model = Model()\n",
    "    pyfunc.add_to_model(mlflow_model, loader_module=\"mlflow.sklearn\")\n",
    "    pyfunc_model = PyFuncModel(model_meta=mlflow_model, model_impl=model)\n",
    "    training_eval_result = mlflow.evaluate(\n",
    "        model=pyfunc_model,\n",
    "        data=X_train.assign(**{str(target_col):y_train}),\n",
    "        targets=target_col,\n",
    "        model_type=\"regressor\",\n",
    "        evaluator_config = {\"log_model_explainability\": False,\n",
    "                            \"metric_prefix\": \"training_\"}\n",
    "    )\n",
    "    # Log metrics for the validation set\n",
    "    val_eval_result = mlflow.evaluate(\n",
    "        model=pyfunc_model,\n",
    "        data=X_val.assign(**{str(target_col):y_val}),\n",
    "        targets=target_col,\n",
    "        model_type=\"regressor\",\n",
    "        evaluator_config= {\"log_model_explainability\": False,\n",
    "                           \"metric_prefix\": \"val_\"}\n",
    "   )\n",
    "    skdt_val_metrics = val_eval_result.metrics\n",
    "    # Log metrics for the test set\n",
    "    test_eval_result = mlflow.evaluate(\n",
    "        model=pyfunc_model,\n",
    "        data=X_test.assign(**{str(target_col):y_test}),\n",
    "        targets=target_col,\n",
    "        model_type=\"regressor\",\n",
    "        evaluator_config= {\"log_model_explainability\": False,\n",
    "                           \"metric_prefix\": \"test_\"}\n",
    "   )\n",
    "    skdt_test_metrics = test_eval_result.metrics\n",
    "\n",
    "    loss = skdt_val_metrics[\"val_r2_score\"]\n",
    "\n",
    "    # Truncate metric key names so they can be displayed together\n",
    "    skdt_val_metrics = {k.replace(\"val_\", \"\"): v for k, v in skdt_val_metrics.items()}\n",
    "    skdt_test_metrics = {k.replace(\"test_\", \"\"): v for k, v in skdt_test_metrics.items()}\n",
    "\n",
    "    return {\n",
    "      \"loss\": loss,\n",
    "      \"status\": STATUS_OK,\n",
    "      \"val_metrics\": skdt_val_metrics,\n",
    "      \"test_metrics\": skdt_test_metrics,\n",
    "      \"model\": model,\n",
    "      \"run\": mlflow_run,\n",
    "    }"
   ]
  },
  {
   "cell_type": "markdown",
   "metadata": {
    "application/vnd.databricks.v1+cell": {
     "cellMetadata": {},
     "inputWidgets": {},
     "nuid": "686a46f3-ec05-49f7-a8d8-e34c089abb79",
     "showTitle": false,
     "title": ""
    }
   },
   "source": [
    "### Configure the hyperparameter search space\n",
    "Configure the search space of parameters. Parameters below are all constant expressions but can be\n",
    "modified to widen the search space. For example, when training a decision tree regressor, to allow\n",
    "the maximum tree depth to be either 2 or 3, set the key of 'max_depth' to\n",
    "`hp.choice('max_depth', [2, 3])`. Be sure to also increase `max_evals` in the `fmin` call below.\n",
    "\n",
    "See https://docs.databricks.com/applications/machine-learning/automl-hyperparam-tuning/index.html\n",
    "for more information on hyperparameter tuning as well as\n",
    "http://hyperopt.github.io/hyperopt/getting-started/search_spaces/ for documentation on supported\n",
    "search expressions.\n",
    "\n",
    "For documentation on parameters used by the model in use, please see:\n",
    "https://scikit-learn.org/stable/modules/generated/sklearn.tree.DecisionTreeRegressor.html\n",
    "\n",
    "NOTE: The above URL points to a stable version of the documentation corresponding to the last\n",
    "released version of the package. The documentation may differ slightly for the package version\n",
    "used by this notebook."
   ]
  },
  {
   "cell_type": "code",
   "execution_count": 0,
   "metadata": {
    "application/vnd.databricks.v1+cell": {
     "cellMetadata": {},
     "inputWidgets": {},
     "nuid": "c49ebd0c-0b0c-467f-ba3e-bdaf8e4d5785",
     "showTitle": false,
     "title": ""
    },
    "execution": {
     "iopub.execute_input": "2023-06-12T14:49:42.541413Z",
     "iopub.status.busy": "2023-06-12T14:49:42.540922Z",
     "iopub.status.idle": "2023-06-12T14:49:42.544874Z",
     "shell.execute_reply": "2023-06-12T14:49:42.544233Z"
    }
   },
   "outputs": [],
   "source": [
    "space = {\n",
    "  \"criterion\": \"friedman_mse\",\n",
    "  \"max_depth\": 8,\n",
    "  \"max_features\": 0.7181376412417506,\n",
    "  \"min_samples_leaf\": 0.09901775479043075,\n",
    "  \"min_samples_split\": 0.12057982500555273,\n",
    "  \"random_state\": 984381954,\n",
    "}"
   ]
  },
  {
   "cell_type": "markdown",
   "metadata": {
    "application/vnd.databricks.v1+cell": {
     "cellMetadata": {},
     "inputWidgets": {},
     "nuid": "e3fc1f02-0174-4b6d-bdb4-0c2c254f2518",
     "showTitle": false,
     "title": ""
    }
   },
   "source": [
    "### Run trials\n",
    "When widening the search space and training multiple models, switch to `SparkTrials` to parallelize\n",
    "training on Spark:\n",
    "```\n",
    "from hyperopt import SparkTrials\n",
    "trials = SparkTrials()\n",
    "```\n",
    "\n",
    "NOTE: While `Trials` starts an MLFlow run for each set of hyperparameters, `SparkTrials` only starts\n",
    "one top-level run; it will start a subrun for each set of hyperparameters.\n",
    "\n",
    "See http://hyperopt.github.io/hyperopt/scaleout/spark/ for more info."
   ]
  },
  {
   "cell_type": "code",
   "execution_count": 0,
   "metadata": {
    "application/vnd.databricks.v1+cell": {
     "cellMetadata": {},
     "inputWidgets": {},
     "nuid": "0369e211-71a0-4458-9b9a-e21997795aee",
     "showTitle": false,
     "title": ""
    },
    "execution": {
     "iopub.execute_input": "2023-06-12T14:49:42.550268Z",
     "iopub.status.busy": "2023-06-12T14:49:42.549968Z",
     "iopub.status.idle": "2023-06-12T14:49:50.085212Z",
     "shell.execute_reply": "2023-06-12T14:49:50.084393Z"
    }
   },
   "outputs": [],
   "source": [
    "trials = Trials()\n",
    "fmin(objective,\n",
    "     space=space,\n",
    "     algo=tpe.suggest,\n",
    "     max_evals=1,  # Increase this when widening the hyperparameter search space.\n",
    "     trials=trials)\n",
    "\n",
    "best_result = trials.best_trial[\"result\"]\n",
    "model = best_result[\"model\"]\n",
    "mlflow_run = best_result[\"run\"]\n",
    "\n",
    "display(\n",
    "  pd.DataFrame(\n",
    "    [best_result[\"val_metrics\"], best_result[\"test_metrics\"]],\n",
    "    index=[\"validation\", \"test\"]))\n",
    "\n",
    "set_config(display=\"diagram\")\n",
    "model"
   ]
  },
  {
   "cell_type": "markdown",
   "metadata": {
    "application/vnd.databricks.v1+cell": {
     "cellMetadata": {},
     "inputWidgets": {},
     "nuid": "6caa3adc-37db-41df-9741-81585e9520dd",
     "showTitle": false,
     "title": ""
    }
   },
   "source": [
    "## Feature importance\n",
    "\n",
    "SHAP is a game-theoretic approach to explain machine learning models, providing a summary plot\n",
    "of the relationship between features and model output. Features are ranked in descending order of\n",
    "importance, and impact/color describe the correlation between the feature and the target variable.\n",
    "- Generating SHAP feature importance is a very memory intensive operation, so to ensure that AutoML can run trials without\n",
    "  running out of memory, we disable SHAP by default.<br />\n",
    "  You can set the flag defined below to `shap_enabled = True` and re-run this notebook to see the SHAP plots.\n",
    "- To reduce the computational overhead of each trial, a single example is sampled from the validation set to explain.<br />\n",
    "  For more thorough results, increase the sample size of explanations, or provide your own examples to explain.\n",
    "- SHAP cannot explain models using data with nulls; if your dataset has any, both the background data and\n",
    "  examples to explain will be imputed using the mode (most frequent values). This affects the computed\n",
    "  SHAP values, as the imputed samples may not match the actual data distribution.\n",
    "\n",
    "For more information on how to read Shapley values, see the [SHAP documentation](https://shap.readthedocs.io/en/latest/example_notebooks/overviews/An%20introduction%20to%20explainable%20AI%20with%20Shapley%20values.html)."
   ]
  },
  {
   "cell_type": "code",
   "execution_count": 0,
   "metadata": {
    "application/vnd.databricks.v1+cell": {
     "cellMetadata": {},
     "inputWidgets": {},
     "nuid": "a85695a8-dcbb-4ca2-9807-f4e7dfff4952",
     "showTitle": false,
     "title": ""
    },
    "execution": {
     "iopub.execute_input": "2023-06-12T14:49:50.088985Z",
     "iopub.status.busy": "2023-06-12T14:49:50.088537Z",
     "iopub.status.idle": "2023-06-12T14:49:50.092520Z",
     "shell.execute_reply": "2023-06-12T14:49:50.091625Z"
    }
   },
   "outputs": [],
   "source": [
    "# Set this flag to True and re-run the notebook to see the SHAP plots\n",
    "shap_enabled = False"
   ]
  },
  {
   "cell_type": "code",
   "execution_count": 0,
   "metadata": {
    "application/vnd.databricks.v1+cell": {
     "cellMetadata": {},
     "inputWidgets": {},
     "nuid": "d369ca70-3776-4054-9108-97e0007d0247",
     "showTitle": false,
     "title": ""
    },
    "execution": {
     "iopub.execute_input": "2023-06-12T14:49:50.096420Z",
     "iopub.status.busy": "2023-06-12T14:49:50.096001Z",
     "iopub.status.idle": "2023-06-12T14:49:50.101895Z",
     "shell.execute_reply": "2023-06-12T14:49:50.101142Z"
    }
   },
   "outputs": [],
   "source": [
    "if shap_enabled:\n",
    "    mlflow.autolog(disable=True)\n",
    "    mlflow.sklearn.autolog(disable=True)\n",
    "    from shap import KernelExplainer, summary_plot\n",
    "    # Sample background data for SHAP Explainer. Increase the sample size to reduce variance.\n",
    "    train_sample = X_train.sample(n=min(100, X_train.shape[0]), random_state=984381954)\n",
    "\n",
    "    # Sample some rows from the validation set to explain. Increase the sample size for more thorough results.\n",
    "    example = X_val.sample(n=min(100, X_val.shape[0]), random_state=984381954)\n",
    "\n",
    "    # Use Kernel SHAP to explain feature importance on the sampled rows from the validation set.\n",
    "    predict = lambda x: model.predict(pd.DataFrame(x, columns=X_train.columns))\n",
    "    explainer = KernelExplainer(predict, train_sample, link=\"identity\")\n",
    "    shap_values = explainer.shap_values(example, l1_reg=False, nsamples=500)\n",
    "    summary_plot(shap_values, example)"
   ]
  },
  {
   "cell_type": "markdown",
   "metadata": {
    "application/vnd.databricks.v1+cell": {
     "cellMetadata": {},
     "inputWidgets": {},
     "nuid": "088cb247-da40-4053-b72c-c3572d4538d4",
     "showTitle": false,
     "title": ""
    }
   },
   "source": [
    "## Inference\n",
    "[The MLflow Model Registry](https://docs.databricks.com/applications/mlflow/model-registry.html) is a collaborative hub where teams can share ML models, work together from experimentation to online testing and production, integrate with approval and governance workflows, and monitor ML deployments and their performance. The snippets below show how to add the model trained in this notebook to the model registry and to retrieve it later for inference.\n",
    "\n",
    "> **NOTE:** The `model_uri` for the model already trained in this notebook can be found in the cell below\n",
    "\n",
    "### Register to Model Registry\n",
    "```\n",
    "model_name = \"Example\"\n",
    "\n",
    "model_uri = f\"runs:/{ mlflow_run.info.run_id }/model\"\n",
    "registered_model_version = mlflow.register_model(model_uri, model_name)\n",
    "```\n",
    "\n",
    "### Load from Model Registry\n",
    "```\n",
    "model_name = \"Example\"\n",
    "model_version = registered_model_version.version\n",
    "\n",
    "model_uri=f\"models:/{model_name}/{model_version}\"\n",
    "model = mlflow.pyfunc.load_model(model_uri=model_uri)\n",
    "model.predict(input_X)\n",
    "```\n",
    "\n",
    "### Load model without registering\n",
    "```\n",
    "model_uri = f\"runs:/{ mlflow_run.info.run_id }/model\"\n",
    "\n",
    "model = mlflow.pyfunc.load_model(model_uri=model_uri)\n",
    "model.predict(input_X)\n",
    "```"
   ]
  },
  {
   "cell_type": "code",
   "execution_count": 0,
   "metadata": {
    "application/vnd.databricks.v1+cell": {
     "cellMetadata": {},
     "inputWidgets": {},
     "nuid": "d208af39-824d-4bbd-8610-4b5ef05ef6b0",
     "showTitle": false,
     "title": ""
    },
    "execution": {
     "iopub.execute_input": "2023-06-12T14:49:50.105749Z",
     "iopub.status.busy": "2023-06-12T14:49:50.105300Z",
     "iopub.status.idle": "2023-06-12T14:49:50.109393Z",
     "shell.execute_reply": "2023-06-12T14:49:50.108636Z"
    }
   },
   "outputs": [],
   "source": [
    "# model_uri for the generated model\n",
    "print(f\"runs:/{ mlflow_run.info.run_id }/model\")"
   ]
  }
 ],
 "metadata": {
  "application/vnd.databricks.v1+notebook": {
   "dashboards": [],
   "language": "python",
   "notebookMetadata": {},
   "notebookName": "23-06-12-14:47-DecisionTreeRegressor-1351c545e856eb8814cdb03e3d95f764",
   "widgets": {}
  },
  "language_info": {
   "codemirror_mode": {
    "name": "ipython",
    "version": 3
   },
   "file_extension": ".py",
   "mimetype": "text/x-python",
   "name": "python",
   "nbconvert_exporter": "python",
   "pygments_lexer": "ipython3",
   "version": "3.10.6"
  },
  "name": "DecisionTreeRegressor-1351c545e856eb8814cdb03e3d95f764"
 },
 "nbformat": 4,
 "nbformat_minor": 0
}
