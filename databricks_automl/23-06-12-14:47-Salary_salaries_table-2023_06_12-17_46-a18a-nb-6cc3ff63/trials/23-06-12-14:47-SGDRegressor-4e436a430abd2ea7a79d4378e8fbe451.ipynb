{
 "cells": [
  {
   "cell_type": "markdown",
   "metadata": {
    "application/vnd.databricks.v1+cell": {
     "cellMetadata": {},
     "inputWidgets": {},
     "nuid": "2caaf285-dc38-41b7-a21e-5e3e536e0ecc",
     "showTitle": false,
     "title": ""
    }
   },
   "source": [
    "# SGD Regressor training\n",
    "- This is an auto-generated notebook.\n",
    "- To reproduce these results, attach this notebook to a cluster with runtime version **13.1.x-cpu-ml-scala2.12**, and rerun it.\n",
    "- Compare trials in the [MLflow experiment](#mlflow/experiments/477090849205139).\n",
    "- Clone this notebook into your project folder by selecting **File > Clone** in the notebook toolbar."
   ]
  },
  {
   "cell_type": "code",
   "execution_count": 0,
   "metadata": {
    "application/vnd.databricks.v1+cell": {
     "cellMetadata": {},
     "inputWidgets": {},
     "nuid": "16281865-01dd-4ef0-b32c-10e619a295b2",
     "showTitle": false,
     "title": ""
    },
    "execution": {
     "iopub.execute_input": "2023-06-12T14:56:03.843816Z",
     "iopub.status.busy": "2023-06-12T14:56:03.843562Z",
     "iopub.status.idle": "2023-06-12T14:56:03.850812Z",
     "shell.execute_reply": "2023-06-12T14:56:03.850018Z"
    }
   },
   "outputs": [],
   "source": [
    "import mlflow\n",
    "import databricks.automl_runtime\n",
    "\n",
    "target_col = \"Salary\""
   ]
  },
  {
   "cell_type": "markdown",
   "metadata": {
    "application/vnd.databricks.v1+cell": {
     "cellMetadata": {},
     "inputWidgets": {},
     "nuid": "b9c6ca4f-3741-422b-92ae-6b23df6a42a5",
     "showTitle": false,
     "title": ""
    }
   },
   "source": [
    "## Load Data"
   ]
  },
  {
   "cell_type": "code",
   "execution_count": 0,
   "metadata": {
    "application/vnd.databricks.v1+cell": {
     "cellMetadata": {},
     "inputWidgets": {},
     "nuid": "6682b466-0f0c-4c68-a9ff-a6c0d8c25e34",
     "showTitle": false,
     "title": ""
    },
    "execution": {
     "iopub.execute_input": "2023-06-12T14:56:03.860854Z",
     "iopub.status.busy": "2023-06-12T14:56:03.860643Z",
     "iopub.status.idle": "2023-06-12T14:56:04.782647Z",
     "shell.execute_reply": "2023-06-12T14:56:04.782048Z"
    }
   },
   "outputs": [],
   "source": [
    "import mlflow\n",
    "import os\n",
    "import uuid\n",
    "import shutil\n",
    "import pandas as pd\n",
    "\n",
    "# Create temp directory to download input data from MLflow\n",
    "input_temp_dir = os.path.join(os.environ[\"SPARK_LOCAL_DIRS\"], \"tmp\", str(uuid.uuid4())[:8])\n",
    "os.makedirs(input_temp_dir)\n",
    "\n",
    "\n",
    "# Download the artifact and read it into a pandas DataFrame\n",
    "input_data_path = mlflow.artifacts.download_artifacts(run_id=\"65cec67efb9947feacf0eee157054e0c\", artifact_path=\"data\", dst_path=input_temp_dir)\n",
    "\n",
    "df_loaded = pd.read_parquet(os.path.join(input_data_path, \"training_data\"))\n",
    "# Delete the temp data\n",
    "shutil.rmtree(input_temp_dir)\n",
    "\n",
    "# Preview data\n",
    "df_loaded.head(5)"
   ]
  },
  {
   "cell_type": "markdown",
   "metadata": {
    "application/vnd.databricks.v1+cell": {
     "cellMetadata": {},
     "inputWidgets": {},
     "nuid": "353f7420-a5c5-4323-afd2-5d95fcd4dada",
     "showTitle": false,
     "title": ""
    }
   },
   "source": [
    "### Select supported columns\n",
    "Select only the columns that are supported. This allows us to train a model that can predict on a dataset that has extra columns that are not used in training.\n",
    "`[\"Position\"]` are dropped in the pipelines. See the Alerts tab of the AutoML Experiment page for details on why these columns are dropped."
   ]
  },
  {
   "cell_type": "code",
   "execution_count": 0,
   "metadata": {
    "application/vnd.databricks.v1+cell": {
     "cellMetadata": {},
     "inputWidgets": {},
     "nuid": "5331230d-e0e0-4b5c-92bd-3dd0f84bf11b",
     "showTitle": false,
     "title": ""
    },
    "execution": {
     "iopub.execute_input": "2023-06-12T14:56:04.786568Z",
     "iopub.status.busy": "2023-06-12T14:56:04.786058Z",
     "iopub.status.idle": "2023-06-12T14:56:05.377339Z",
     "shell.execute_reply": "2023-06-12T14:56:05.376577Z"
    }
   },
   "outputs": [],
   "source": [
    "from databricks.automl_runtime.sklearn.column_selector import ColumnSelector\n",
    "supported_cols = [\"Level\"]\n",
    "col_selector = ColumnSelector(supported_cols)"
   ]
  },
  {
   "cell_type": "markdown",
   "metadata": {
    "application/vnd.databricks.v1+cell": {
     "cellMetadata": {},
     "inputWidgets": {},
     "nuid": "ef7169c2-8d64-4c89-814b-339939dc5c71",
     "showTitle": false,
     "title": ""
    }
   },
   "source": [
    "## Preprocessors"
   ]
  },
  {
   "cell_type": "markdown",
   "metadata": {
    "application/vnd.databricks.v1+cell": {
     "cellMetadata": {},
     "inputWidgets": {},
     "nuid": "cafeb2e6-5010-4868-9e15-7454d0aaa729",
     "showTitle": false,
     "title": ""
    }
   },
   "source": [
    "### Numerical columns\n",
    "\n",
    "Missing values for numerical columns are imputed with mean by default."
   ]
  },
  {
   "cell_type": "code",
   "execution_count": 0,
   "metadata": {
    "application/vnd.databricks.v1+cell": {
     "cellMetadata": {},
     "inputWidgets": {},
     "nuid": "4661a562-801a-4b0c-9e2f-d6be9100747e",
     "showTitle": false,
     "title": ""
    },
    "execution": {
     "iopub.execute_input": "2023-06-12T14:56:05.381593Z",
     "iopub.status.busy": "2023-06-12T14:56:05.381141Z",
     "iopub.status.idle": "2023-06-12T14:56:05.388506Z",
     "shell.execute_reply": "2023-06-12T14:56:05.387650Z"
    }
   },
   "outputs": [],
   "source": [
    "from sklearn.compose import ColumnTransformer\n",
    "from sklearn.impute import SimpleImputer\n",
    "from sklearn.pipeline import Pipeline\n",
    "from sklearn.preprocessing import FunctionTransformer, StandardScaler\n",
    "\n",
    "num_imputers = []\n",
    "num_imputers.append((\"impute_mean\", SimpleImputer(), [\"Level\"]))\n",
    "\n",
    "numerical_pipeline = Pipeline(steps=[\n",
    "    (\"converter\", FunctionTransformer(lambda df: df.apply(pd.to_numeric, errors='coerce'))),\n",
    "    (\"imputers\", ColumnTransformer(num_imputers)),\n",
    "    (\"standardizer\", StandardScaler()),\n",
    "])\n",
    "\n",
    "numerical_transformers = [(\"numerical\", numerical_pipeline, [\"Level\"])]"
   ]
  },
  {
   "cell_type": "markdown",
   "metadata": {
    "application/vnd.databricks.v1+cell": {
     "cellMetadata": {},
     "inputWidgets": {},
     "nuid": "fef5f16f-c433-4ec0-84bc-cd7a590a3d5b",
     "showTitle": false,
     "title": ""
    }
   },
   "source": [
    "### Categorical columns"
   ]
  },
  {
   "cell_type": "markdown",
   "metadata": {
    "application/vnd.databricks.v1+cell": {
     "cellMetadata": {},
     "inputWidgets": {},
     "nuid": "1212c322-993e-4073-8714-0ee5aa237508",
     "showTitle": false,
     "title": ""
    }
   },
   "source": [
    "#### Low-cardinality categoricals\n",
    "Convert each low-cardinality categorical column into multiple binary columns through one-hot encoding.\n",
    "For each input categorical column (string or numeric), the number of output columns is equal to the number of unique values in the input column."
   ]
  },
  {
   "cell_type": "code",
   "execution_count": 0,
   "metadata": {
    "application/vnd.databricks.v1+cell": {
     "cellMetadata": {},
     "inputWidgets": {},
     "nuid": "d53692e7-9870-47ea-8429-d75aa2128b6a",
     "showTitle": false,
     "title": ""
    },
    "execution": {
     "iopub.execute_input": "2023-06-12T14:56:05.392106Z",
     "iopub.status.busy": "2023-06-12T14:56:05.391687Z",
     "iopub.status.idle": "2023-06-12T14:56:05.396561Z",
     "shell.execute_reply": "2023-06-12T14:56:05.395800Z"
    }
   },
   "outputs": [],
   "source": [
    "from databricks.automl_runtime.sklearn import OneHotEncoder\n",
    "from sklearn.compose import ColumnTransformer\n",
    "from sklearn.impute import SimpleImputer\n",
    "from sklearn.pipeline import Pipeline\n",
    "\n",
    "one_hot_imputers = []\n",
    "\n",
    "one_hot_pipeline = Pipeline(steps=[\n",
    "    (\"imputers\", ColumnTransformer(one_hot_imputers, remainder=\"passthrough\")),\n",
    "    (\"one_hot_encoder\", OneHotEncoder(handle_unknown=\"indicator\")),\n",
    "])\n",
    "\n",
    "categorical_one_hot_transformers = [(\"onehot\", one_hot_pipeline, [\"Level\"])]"
   ]
  },
  {
   "cell_type": "code",
   "execution_count": 0,
   "metadata": {
    "application/vnd.databricks.v1+cell": {
     "cellMetadata": {},
     "inputWidgets": {},
     "nuid": "e0dfc524-af78-4f20-aa18-c7b9793b662e",
     "showTitle": false,
     "title": ""
    },
    "execution": {
     "iopub.execute_input": "2023-06-12T14:56:05.400528Z",
     "iopub.status.busy": "2023-06-12T14:56:05.400104Z",
     "iopub.status.idle": "2023-06-12T14:56:05.403766Z",
     "shell.execute_reply": "2023-06-12T14:56:05.403222Z"
    }
   },
   "outputs": [],
   "source": [
    "from sklearn.compose import ColumnTransformer\n",
    "\n",
    "transformers = numerical_transformers + categorical_one_hot_transformers\n",
    "\n",
    "preprocessor = ColumnTransformer(transformers, remainder=\"passthrough\", sparse_threshold=1)"
   ]
  },
  {
   "cell_type": "markdown",
   "metadata": {
    "application/vnd.databricks.v1+cell": {
     "cellMetadata": {},
     "inputWidgets": {},
     "nuid": "c6936001-5a9b-4997-8a4d-3f821c9738e8",
     "showTitle": false,
     "title": ""
    }
   },
   "source": [
    "## Train - Validation - Test Split\n",
    "The input data is split by AutoML into 3 sets:\n",
    "- Train (60% of the dataset used to train the model)\n",
    "- Validation (20% of the dataset used to tune the hyperparameters of the model)\n",
    "- Test (20% of the dataset used to report the true performance of the model on an unseen dataset)\n",
    "\n",
    "`_automl_split_col_0000` contains the information of which set a given row belongs to.\n",
    "We use this column to split the dataset into the above 3 sets. \n",
    "The column should not be used for training so it is dropped after split is done."
   ]
  },
  {
   "cell_type": "code",
   "execution_count": 0,
   "metadata": {
    "application/vnd.databricks.v1+cell": {
     "cellMetadata": {},
     "inputWidgets": {},
     "nuid": "2f054d2c-73de-4562-bb63-3c9cdc36c6ff",
     "showTitle": false,
     "title": ""
    },
    "execution": {
     "iopub.execute_input": "2023-06-12T14:56:05.408438Z",
     "iopub.status.busy": "2023-06-12T14:56:05.408089Z",
     "iopub.status.idle": "2023-06-12T14:56:05.416868Z",
     "shell.execute_reply": "2023-06-12T14:56:05.416320Z"
    }
   },
   "outputs": [],
   "source": [
    "# AutoML completed train - validation - test split internally and used _automl_split_col_0000 to specify the set\n",
    "split_train_df = df_loaded.loc[df_loaded._automl_split_col_0000 == \"train\"]\n",
    "split_val_df = df_loaded.loc[df_loaded._automl_split_col_0000 == \"val\"]\n",
    "split_test_df = df_loaded.loc[df_loaded._automl_split_col_0000 == \"test\"]\n",
    "\n",
    "# Separate target column from features and drop _automl_split_col_0000\n",
    "X_train = split_train_df.drop([target_col, \"_automl_split_col_0000\"], axis=1)\n",
    "y_train = split_train_df[target_col]\n",
    "\n",
    "X_val = split_val_df.drop([target_col, \"_automl_split_col_0000\"], axis=1)\n",
    "y_val = split_val_df[target_col]\n",
    "\n",
    "X_test = split_test_df.drop([target_col, \"_automl_split_col_0000\"], axis=1)\n",
    "y_test = split_test_df[target_col]"
   ]
  },
  {
   "cell_type": "markdown",
   "metadata": {
    "application/vnd.databricks.v1+cell": {
     "cellMetadata": {},
     "inputWidgets": {},
     "nuid": "ccb4bb79-acb5-42f1-829b-f243f79b5629",
     "showTitle": false,
     "title": ""
    }
   },
   "source": [
    "## Train regression model\n",
    "- Log relevant metrics to MLflow to track runs\n",
    "- All the runs are logged under [this MLflow experiment](#mlflow/experiments/477090849205139)\n",
    "- Change the model parameters and re-run the training cell to log a different trial to the MLflow experiment\n",
    "- To view the full list of tunable hyperparameters, check the output of the cell below"
   ]
  },
  {
   "cell_type": "code",
   "execution_count": 0,
   "metadata": {
    "application/vnd.databricks.v1+cell": {
     "cellMetadata": {},
     "inputWidgets": {},
     "nuid": "edd4569e-d19f-48ed-becd-a5a3e0117c7c",
     "showTitle": false,
     "title": ""
    },
    "execution": {
     "iopub.execute_input": "2023-06-12T14:56:05.422014Z",
     "iopub.status.busy": "2023-06-12T14:56:05.421563Z",
     "iopub.status.idle": "2023-06-12T14:56:05.430323Z",
     "shell.execute_reply": "2023-06-12T14:56:05.429675Z"
    }
   },
   "outputs": [],
   "source": [
    "from sklearn.linear_model import SGDRegressor\n",
    "\n",
    "help(SGDRegressor)"
   ]
  },
  {
   "cell_type": "markdown",
   "metadata": {
    "application/vnd.databricks.v1+cell": {
     "cellMetadata": {},
     "inputWidgets": {},
     "nuid": "44611d80-abe2-4ae4-93f4-d615b79e2dc3",
     "showTitle": false,
     "title": ""
    }
   },
   "source": [
    "### Define the objective function\n",
    "The objective function used to find optimal hyperparameters. By default, this notebook only runs\n",
    "this function once (`max_evals=1` in the `hyperopt.fmin` invocation) with fixed hyperparameters, but\n",
    "hyperparameters can be tuned by modifying `space`, defined below. `hyperopt.fmin` will then use this\n",
    "function's return value to search the space to minimize the loss."
   ]
  },
  {
   "cell_type": "code",
   "execution_count": 0,
   "metadata": {
    "application/vnd.databricks.v1+cell": {
     "cellMetadata": {},
     "inputWidgets": {},
     "nuid": "d68efe9b-0604-428e-a87c-ebb1117b64b1",
     "showTitle": false,
     "title": ""
    },
    "execution": {
     "iopub.execute_input": "2023-06-12T14:56:05.434221Z",
     "iopub.status.busy": "2023-06-12T14:56:05.433772Z",
     "iopub.status.idle": "2023-06-12T14:56:05.553615Z",
     "shell.execute_reply": "2023-06-12T14:56:05.552913Z"
    }
   },
   "outputs": [],
   "source": [
    "import mlflow\n",
    "from mlflow.models import Model, infer_signature, ModelSignature\n",
    "from mlflow.pyfunc import PyFuncModel\n",
    "from mlflow import pyfunc\n",
    "import sklearn\n",
    "from sklearn import set_config\n",
    "from sklearn.pipeline import Pipeline\n",
    "from hyperopt import hp, tpe, fmin, STATUS_OK, Trials\n",
    "\n",
    "\n",
    "def objective(params):\n",
    "  with mlflow.start_run(experiment_id=\"477090849205139\") as mlflow_run:\n",
    "    sgdr_regressor = SGDRegressor(**params)\n",
    "\n",
    "    model = Pipeline([\n",
    "        (\"column_selector\", col_selector),\n",
    "        (\"preprocessor\", preprocessor),\n",
    "        (\"regressor\", sgdr_regressor),\n",
    "    ])\n",
    "\n",
    "    # Enable automatic logging of input samples, metrics, parameters, and models\n",
    "    mlflow.sklearn.autolog(\n",
    "        log_input_examples=True,\n",
    "        silent=True,\n",
    "    )\n",
    "\n",
    "    model.fit(X_train, y_train)\n",
    "\n",
    "    \n",
    "    # Log metrics for the training set\n",
    "    mlflow_model = Model()\n",
    "    pyfunc.add_to_model(mlflow_model, loader_module=\"mlflow.sklearn\")\n",
    "    pyfunc_model = PyFuncModel(model_meta=mlflow_model, model_impl=model)\n",
    "    training_eval_result = mlflow.evaluate(\n",
    "        model=pyfunc_model,\n",
    "        data=X_train.assign(**{str(target_col):y_train}),\n",
    "        targets=target_col,\n",
    "        model_type=\"regressor\",\n",
    "        evaluator_config = {\"log_model_explainability\": False,\n",
    "                            \"metric_prefix\": \"training_\"}\n",
    "    )\n",
    "    # Log metrics for the validation set\n",
    "    val_eval_result = mlflow.evaluate(\n",
    "        model=pyfunc_model,\n",
    "        data=X_val.assign(**{str(target_col):y_val}),\n",
    "        targets=target_col,\n",
    "        model_type=\"regressor\",\n",
    "        evaluator_config= {\"log_model_explainability\": False,\n",
    "                           \"metric_prefix\": \"val_\"}\n",
    "   )\n",
    "    sgdr_val_metrics = val_eval_result.metrics\n",
    "    # Log metrics for the test set\n",
    "    test_eval_result = mlflow.evaluate(\n",
    "        model=pyfunc_model,\n",
    "        data=X_test.assign(**{str(target_col):y_test}),\n",
    "        targets=target_col,\n",
    "        model_type=\"regressor\",\n",
    "        evaluator_config= {\"log_model_explainability\": False,\n",
    "                           \"metric_prefix\": \"test_\"}\n",
    "   )\n",
    "    sgdr_test_metrics = test_eval_result.metrics\n",
    "\n",
    "    loss = sgdr_val_metrics[\"val_r2_score\"]\n",
    "\n",
    "    # Truncate metric key names so they can be displayed together\n",
    "    sgdr_val_metrics = {k.replace(\"val_\", \"\"): v for k, v in sgdr_val_metrics.items()}\n",
    "    sgdr_test_metrics = {k.replace(\"test_\", \"\"): v for k, v in sgdr_test_metrics.items()}\n",
    "\n",
    "    return {\n",
    "      \"loss\": loss,\n",
    "      \"status\": STATUS_OK,\n",
    "      \"val_metrics\": sgdr_val_metrics,\n",
    "      \"test_metrics\": sgdr_test_metrics,\n",
    "      \"model\": model,\n",
    "      \"run\": mlflow_run,\n",
    "    }"
   ]
  },
  {
   "cell_type": "markdown",
   "metadata": {
    "application/vnd.databricks.v1+cell": {
     "cellMetadata": {},
     "inputWidgets": {},
     "nuid": "38c1fd77-aa49-4ad8-946d-f97470c4f8df",
     "showTitle": false,
     "title": ""
    }
   },
   "source": [
    "### Configure the hyperparameter search space\n",
    "Configure the search space of parameters. Parameters below are all constant expressions but can be\n",
    "modified to widen the search space. For example, when training a decision tree regressor, to allow\n",
    "the maximum tree depth to be either 2 or 3, set the key of 'max_depth' to\n",
    "`hp.choice('max_depth', [2, 3])`. Be sure to also increase `max_evals` in the `fmin` call below.\n",
    "\n",
    "See https://docs.databricks.com/applications/machine-learning/automl-hyperparam-tuning/index.html\n",
    "for more information on hyperparameter tuning as well as\n",
    "http://hyperopt.github.io/hyperopt/getting-started/search_spaces/ for documentation on supported\n",
    "search expressions.\n",
    "\n",
    "For documentation on parameters used by the model in use, please see:\n",
    "https://scikit-learn.org/stable/modules/generated/sklearn.linear_model.SGDRegressor.html\n",
    "\n",
    "NOTE: The above URL points to a stable version of the documentation corresponding to the last\n",
    "released version of the package. The documentation may differ slightly for the package version\n",
    "used by this notebook."
   ]
  },
  {
   "cell_type": "code",
   "execution_count": 0,
   "metadata": {
    "application/vnd.databricks.v1+cell": {
     "cellMetadata": {},
     "inputWidgets": {},
     "nuid": "cd341926-e52e-4058-b257-7a0101f795f1",
     "showTitle": false,
     "title": ""
    },
    "execution": {
     "iopub.execute_input": "2023-06-12T14:56:05.564104Z",
     "iopub.status.busy": "2023-06-12T14:56:05.563882Z",
     "iopub.status.idle": "2023-06-12T14:56:05.570441Z",
     "shell.execute_reply": "2023-06-12T14:56:05.569791Z"
    }
   },
   "outputs": [],
   "source": [
    "space = {\n",
    "  \"alpha\": 1.64334157856321e-05,\n",
    "  \"average\": False,\n",
    "  \"early_stopping\": False,\n",
    "  \"fit_intercept\": True,\n",
    "  \"eta0\": 0.0002081294751737097,\n",
    "  \"learning_rate\": \"adaptive\",\n",
    "  \"loss\": \"squared_loss\",\n",
    "  \"n_iter_no_change\": 5,\n",
    "  \"penalty\": \"l1\",\n",
    "  \"tol\": 1.3072102514064433e-05,\n",
    "  \"validation_fraction\": 0.1,\n",
    "  \"random_state\": 984381954,\n",
    "}"
   ]
  },
  {
   "cell_type": "markdown",
   "metadata": {
    "application/vnd.databricks.v1+cell": {
     "cellMetadata": {},
     "inputWidgets": {},
     "nuid": "3c55ea65-e43a-4d5d-9c73-c688273a43e6",
     "showTitle": false,
     "title": ""
    }
   },
   "source": [
    "### Run trials\n",
    "When widening the search space and training multiple models, switch to `SparkTrials` to parallelize\n",
    "training on Spark:\n",
    "```\n",
    "from hyperopt import SparkTrials\n",
    "trials = SparkTrials()\n",
    "```\n",
    "\n",
    "NOTE: While `Trials` starts an MLFlow run for each set of hyperparameters, `SparkTrials` only starts\n",
    "one top-level run; it will start a subrun for each set of hyperparameters.\n",
    "\n",
    "See http://hyperopt.github.io/hyperopt/scaleout/spark/ for more info."
   ]
  },
  {
   "cell_type": "code",
   "execution_count": 0,
   "metadata": {
    "application/vnd.databricks.v1+cell": {
     "cellMetadata": {},
     "inputWidgets": {},
     "nuid": "ca715605-63c4-4de3-80c0-6bdebb3817f4",
     "showTitle": false,
     "title": ""
    },
    "execution": {
     "iopub.execute_input": "2023-06-12T14:56:05.574119Z",
     "iopub.status.busy": "2023-06-12T14:56:05.573717Z",
     "iopub.status.idle": "2023-06-12T14:56:12.723693Z",
     "shell.execute_reply": "2023-06-12T14:56:12.722884Z"
    }
   },
   "outputs": [],
   "source": [
    "trials = Trials()\n",
    "fmin(objective,\n",
    "     space=space,\n",
    "     algo=tpe.suggest,\n",
    "     max_evals=1,  # Increase this when widening the hyperparameter search space.\n",
    "     trials=trials)\n",
    "\n",
    "best_result = trials.best_trial[\"result\"]\n",
    "model = best_result[\"model\"]\n",
    "mlflow_run = best_result[\"run\"]\n",
    "\n",
    "display(\n",
    "  pd.DataFrame(\n",
    "    [best_result[\"val_metrics\"], best_result[\"test_metrics\"]],\n",
    "    index=[\"validation\", \"test\"]))\n",
    "\n",
    "set_config(display=\"diagram\")\n",
    "model"
   ]
  },
  {
   "cell_type": "markdown",
   "metadata": {
    "application/vnd.databricks.v1+cell": {
     "cellMetadata": {},
     "inputWidgets": {},
     "nuid": "048f3b92-f2da-47df-a2e7-751d1b9ba359",
     "showTitle": false,
     "title": ""
    }
   },
   "source": [
    "## Feature importance\n",
    "\n",
    "SHAP is a game-theoretic approach to explain machine learning models, providing a summary plot\n",
    "of the relationship between features and model output. Features are ranked in descending order of\n",
    "importance, and impact/color describe the correlation between the feature and the target variable.\n",
    "- Generating SHAP feature importance is a very memory intensive operation, so to ensure that AutoML can run trials without\n",
    "  running out of memory, we disable SHAP by default.<br />\n",
    "  You can set the flag defined below to `shap_enabled = True` and re-run this notebook to see the SHAP plots.\n",
    "- To reduce the computational overhead of each trial, a single example is sampled from the validation set to explain.<br />\n",
    "  For more thorough results, increase the sample size of explanations, or provide your own examples to explain.\n",
    "- SHAP cannot explain models using data with nulls; if your dataset has any, both the background data and\n",
    "  examples to explain will be imputed using the mode (most frequent values). This affects the computed\n",
    "  SHAP values, as the imputed samples may not match the actual data distribution.\n",
    "\n",
    "For more information on how to read Shapley values, see the [SHAP documentation](https://shap.readthedocs.io/en/latest/example_notebooks/overviews/An%20introduction%20to%20explainable%20AI%20with%20Shapley%20values.html)."
   ]
  },
  {
   "cell_type": "code",
   "execution_count": 0,
   "metadata": {
    "application/vnd.databricks.v1+cell": {
     "cellMetadata": {},
     "inputWidgets": {},
     "nuid": "6518429b-2708-4a81-b00f-a445a40dfe34",
     "showTitle": false,
     "title": ""
    },
    "execution": {
     "iopub.execute_input": "2023-06-12T14:56:12.727610Z",
     "iopub.status.busy": "2023-06-12T14:56:12.727316Z",
     "iopub.status.idle": "2023-06-12T14:56:12.731354Z",
     "shell.execute_reply": "2023-06-12T14:56:12.730271Z"
    }
   },
   "outputs": [],
   "source": [
    "# Set this flag to True and re-run the notebook to see the SHAP plots\n",
    "shap_enabled = False"
   ]
  },
  {
   "cell_type": "code",
   "execution_count": 0,
   "metadata": {
    "application/vnd.databricks.v1+cell": {
     "cellMetadata": {},
     "inputWidgets": {},
     "nuid": "f9057e2c-3ab2-4ed4-8c37-757c7a11b358",
     "showTitle": false,
     "title": ""
    },
    "execution": {
     "iopub.execute_input": "2023-06-12T14:56:12.734544Z",
     "iopub.status.busy": "2023-06-12T14:56:12.734348Z",
     "iopub.status.idle": "2023-06-12T14:56:12.741542Z",
     "shell.execute_reply": "2023-06-12T14:56:12.740736Z"
    }
   },
   "outputs": [],
   "source": [
    "if shap_enabled:\n",
    "    mlflow.autolog(disable=True)\n",
    "    mlflow.sklearn.autolog(disable=True)\n",
    "    from shap import KernelExplainer, summary_plot\n",
    "    # Sample background data for SHAP Explainer. Increase the sample size to reduce variance.\n",
    "    train_sample = X_train.sample(n=min(100, X_train.shape[0]), random_state=984381954)\n",
    "\n",
    "    # Sample some rows from the validation set to explain. Increase the sample size for more thorough results.\n",
    "    example = X_val.sample(n=min(100, X_val.shape[0]), random_state=984381954)\n",
    "\n",
    "    # Use Kernel SHAP to explain feature importance on the sampled rows from the validation set.\n",
    "    predict = lambda x: model.predict(pd.DataFrame(x, columns=X_train.columns))\n",
    "    explainer = KernelExplainer(predict, train_sample, link=\"identity\")\n",
    "    shap_values = explainer.shap_values(example, l1_reg=False, nsamples=500)\n",
    "    summary_plot(shap_values, example)"
   ]
  },
  {
   "cell_type": "markdown",
   "metadata": {
    "application/vnd.databricks.v1+cell": {
     "cellMetadata": {},
     "inputWidgets": {},
     "nuid": "9f547eb7-4892-4637-86b9-4d2f441af1e3",
     "showTitle": false,
     "title": ""
    }
   },
   "source": [
    "## Inference\n",
    "[The MLflow Model Registry](https://docs.databricks.com/applications/mlflow/model-registry.html) is a collaborative hub where teams can share ML models, work together from experimentation to online testing and production, integrate with approval and governance workflows, and monitor ML deployments and their performance. The snippets below show how to add the model trained in this notebook to the model registry and to retrieve it later for inference.\n",
    "\n",
    "> **NOTE:** The `model_uri` for the model already trained in this notebook can be found in the cell below\n",
    "\n",
    "### Register to Model Registry\n",
    "```\n",
    "model_name = \"Example\"\n",
    "\n",
    "model_uri = f\"runs:/{ mlflow_run.info.run_id }/model\"\n",
    "registered_model_version = mlflow.register_model(model_uri, model_name)\n",
    "```\n",
    "\n",
    "### Load from Model Registry\n",
    "```\n",
    "model_name = \"Example\"\n",
    "model_version = registered_model_version.version\n",
    "\n",
    "model_uri=f\"models:/{model_name}/{model_version}\"\n",
    "model = mlflow.pyfunc.load_model(model_uri=model_uri)\n",
    "model.predict(input_X)\n",
    "```\n",
    "\n",
    "### Load model without registering\n",
    "```\n",
    "model_uri = f\"runs:/{ mlflow_run.info.run_id }/model\"\n",
    "\n",
    "model = mlflow.pyfunc.load_model(model_uri=model_uri)\n",
    "model.predict(input_X)\n",
    "```"
   ]
  },
  {
   "cell_type": "code",
   "execution_count": 0,
   "metadata": {
    "application/vnd.databricks.v1+cell": {
     "cellMetadata": {},
     "inputWidgets": {},
     "nuid": "fcc0e858-9b08-4a7c-ab1c-a7d47df2c4be",
     "showTitle": false,
     "title": ""
    },
    "execution": {
     "iopub.execute_input": "2023-06-12T14:56:12.747667Z",
     "iopub.status.busy": "2023-06-12T14:56:12.747469Z",
     "iopub.status.idle": "2023-06-12T14:56:12.753587Z",
     "shell.execute_reply": "2023-06-12T14:56:12.752992Z"
    }
   },
   "outputs": [],
   "source": [
    "# model_uri for the generated model\n",
    "print(f\"runs:/{ mlflow_run.info.run_id }/model\")"
   ]
  }
 ],
 "metadata": {
  "application/vnd.databricks.v1+notebook": {
   "dashboards": [],
   "language": "python",
   "notebookMetadata": {},
   "notebookName": "23-06-12-14:47-SGDRegressor-4e436a430abd2ea7a79d4378e8fbe451",
   "widgets": {}
  },
  "language_info": {
   "codemirror_mode": {
    "name": "ipython",
    "version": 3
   },
   "file_extension": ".py",
   "mimetype": "text/x-python",
   "name": "python",
   "nbconvert_exporter": "python",
   "pygments_lexer": "ipython3",
   "version": "3.10.6"
  },
  "name": "SGDRegressor-4e436a430abd2ea7a79d4378e8fbe451"
 },
 "nbformat": 4,
 "nbformat_minor": 0
}
