{
 "cells": [
  {
   "cell_type": "markdown",
   "metadata": {
    "application/vnd.databricks.v1+cell": {
     "cellMetadata": {},
     "inputWidgets": {},
     "nuid": "2eccfd75-b69a-4f4b-8d6b-21977ca9503f",
     "showTitle": false,
     "title": ""
    }
   },
   "source": [
    "# Decision Tree Regressor training\n",
    "- This is an auto-generated notebook.\n",
    "- To reproduce these results, attach this notebook to a cluster with runtime version **13.1.x-cpu-ml-scala2.12**, and rerun it.\n",
    "- Compare trials in the [MLflow experiment](#mlflow/experiments/3502351554730686).\n",
    "- Clone this notebook into your project folder by selecting **File > Clone** in the notebook toolbar."
   ]
  },
  {
   "cell_type": "code",
   "execution_count": 0,
   "metadata": {
    "application/vnd.databricks.v1+cell": {
     "cellMetadata": {},
     "inputWidgets": {},
     "nuid": "0fd6921f-6835-4de8-a3e3-6099e94c434a",
     "showTitle": false,
     "title": ""
    },
    "execution": {
     "iopub.execute_input": "2023-06-13T06:26:17.926307Z",
     "iopub.status.busy": "2023-06-13T06:26:17.925660Z",
     "iopub.status.idle": "2023-06-13T06:26:17.934942Z",
     "shell.execute_reply": "2023-06-13T06:26:17.934067Z"
    }
   },
   "outputs": [],
   "source": [
    "import mlflow\n",
    "import databricks.automl_runtime\n",
    "\n",
    "target_col = \"PE\""
   ]
  },
  {
   "cell_type": "markdown",
   "metadata": {
    "application/vnd.databricks.v1+cell": {
     "cellMetadata": {},
     "inputWidgets": {},
     "nuid": "c4e76cfc-1041-4ed2-8834-1c6717573217",
     "showTitle": false,
     "title": ""
    }
   },
   "source": [
    "## Load Data"
   ]
  },
  {
   "cell_type": "code",
   "execution_count": 0,
   "metadata": {
    "application/vnd.databricks.v1+cell": {
     "cellMetadata": {},
     "inputWidgets": {},
     "nuid": "0676ae2e-8cf5-4196-af8b-30c2f664e154",
     "showTitle": false,
     "title": ""
    },
    "execution": {
     "iopub.execute_input": "2023-06-13T06:26:17.939576Z",
     "iopub.status.busy": "2023-06-13T06:26:17.938931Z",
     "iopub.status.idle": "2023-06-13T06:26:19.119560Z",
     "shell.execute_reply": "2023-06-13T06:26:19.118984Z"
    }
   },
   "outputs": [],
   "source": [
    "import mlflow\n",
    "import os\n",
    "import uuid\n",
    "import shutil\n",
    "import pandas as pd\n",
    "\n",
    "# Create temp directory to download input data from MLflow\n",
    "input_temp_dir = os.path.join(os.environ[\"SPARK_LOCAL_DIRS\"], \"tmp\", str(uuid.uuid4())[:8])\n",
    "os.makedirs(input_temp_dir)\n",
    "\n",
    "\n",
    "# Download the artifact and read it into a pandas DataFrame\n",
    "input_data_path = mlflow.artifacts.download_artifacts(run_id=\"8774ba6301154241a4250b4f27615a53\", artifact_path=\"data\", dst_path=input_temp_dir)\n",
    "\n",
    "df_loaded = pd.read_parquet(os.path.join(input_data_path, \"training_data\"))\n",
    "# Delete the temp data\n",
    "shutil.rmtree(input_temp_dir)\n",
    "\n",
    "# Preview data\n",
    "df_loaded.head(5)"
   ]
  },
  {
   "cell_type": "markdown",
   "metadata": {
    "application/vnd.databricks.v1+cell": {
     "cellMetadata": {},
     "inputWidgets": {},
     "nuid": "a2411805-3216-4102-855e-95a66fedb835",
     "showTitle": false,
     "title": ""
    }
   },
   "source": [
    "### Select supported columns\n",
    "Select only the columns that are supported. This allows us to train a model that can predict on a dataset that has extra columns that are not used in training.\n",
    "`[]` are dropped in the pipelines. See the Alerts tab of the AutoML Experiment page for details on why these columns are dropped."
   ]
  },
  {
   "cell_type": "code",
   "execution_count": 0,
   "metadata": {
    "application/vnd.databricks.v1+cell": {
     "cellMetadata": {},
     "inputWidgets": {},
     "nuid": "dc8dd5c4-98ee-4987-ab6a-1c96a9b7ac64",
     "showTitle": false,
     "title": ""
    },
    "execution": {
     "iopub.execute_input": "2023-06-13T06:26:19.128902Z",
     "iopub.status.busy": "2023-06-13T06:26:19.128473Z",
     "iopub.status.idle": "2023-06-13T06:26:19.981437Z",
     "shell.execute_reply": "2023-06-13T06:26:19.980731Z"
    }
   },
   "outputs": [],
   "source": [
    "from databricks.automl_runtime.sklearn.column_selector import ColumnSelector\n",
    "supported_cols = [\"AP\", \"V\", \"RH\", \"AT\"]\n",
    "col_selector = ColumnSelector(supported_cols)"
   ]
  },
  {
   "cell_type": "markdown",
   "metadata": {
    "application/vnd.databricks.v1+cell": {
     "cellMetadata": {},
     "inputWidgets": {},
     "nuid": "e27c89b7-5361-42ce-84e6-7b08454a363b",
     "showTitle": false,
     "title": ""
    }
   },
   "source": [
    "## Preprocessors"
   ]
  },
  {
   "cell_type": "markdown",
   "metadata": {
    "application/vnd.databricks.v1+cell": {
     "cellMetadata": {},
     "inputWidgets": {},
     "nuid": "c7c42a0b-f9af-4578-99ce-69baa157db27",
     "showTitle": false,
     "title": ""
    }
   },
   "source": [
    "### Numerical columns\n",
    "\n",
    "Missing values for numerical columns are imputed with mean by default."
   ]
  },
  {
   "cell_type": "code",
   "execution_count": 0,
   "metadata": {
    "application/vnd.databricks.v1+cell": {
     "cellMetadata": {},
     "inputWidgets": {},
     "nuid": "079e4970-96a8-4ed1-9699-84bf3ce1eae2",
     "showTitle": false,
     "title": ""
    },
    "execution": {
     "iopub.execute_input": "2023-06-13T06:26:19.986768Z",
     "iopub.status.busy": "2023-06-13T06:26:19.986389Z",
     "iopub.status.idle": "2023-06-13T06:26:19.992025Z",
     "shell.execute_reply": "2023-06-13T06:26:19.991398Z"
    }
   },
   "outputs": [],
   "source": [
    "from sklearn.compose import ColumnTransformer\n",
    "from sklearn.impute import SimpleImputer\n",
    "from sklearn.pipeline import Pipeline\n",
    "from sklearn.preprocessing import FunctionTransformer, StandardScaler\n",
    "\n",
    "num_imputers = []\n",
    "num_imputers.append((\"impute_mean\", SimpleImputer(), [\"AP\", \"AT\", \"RH\", \"V\"]))\n",
    "\n",
    "numerical_pipeline = Pipeline(steps=[\n",
    "    (\"converter\", FunctionTransformer(lambda df: df.apply(pd.to_numeric, errors='coerce'))),\n",
    "    (\"imputers\", ColumnTransformer(num_imputers)),\n",
    "    (\"standardizer\", StandardScaler()),\n",
    "])\n",
    "\n",
    "numerical_transformers = [(\"numerical\", numerical_pipeline, [\"AP\", \"V\", \"RH\", \"AT\"])]"
   ]
  },
  {
   "cell_type": "code",
   "execution_count": 0,
   "metadata": {
    "application/vnd.databricks.v1+cell": {
     "cellMetadata": {},
     "inputWidgets": {},
     "nuid": "81d81aa1-f7f6-41c9-941a-f583287e9ddb",
     "showTitle": false,
     "title": ""
    },
    "execution": {
     "iopub.execute_input": "2023-06-13T06:26:19.996947Z",
     "iopub.status.busy": "2023-06-13T06:26:19.996201Z",
     "iopub.status.idle": "2023-06-13T06:26:20.001487Z",
     "shell.execute_reply": "2023-06-13T06:26:20.000537Z"
    }
   },
   "outputs": [],
   "source": [
    "from sklearn.compose import ColumnTransformer\n",
    "\n",
    "transformers = numerical_transformers\n",
    "\n",
    "preprocessor = ColumnTransformer(transformers, remainder=\"passthrough\", sparse_threshold=0)"
   ]
  },
  {
   "cell_type": "markdown",
   "metadata": {
    "application/vnd.databricks.v1+cell": {
     "cellMetadata": {},
     "inputWidgets": {},
     "nuid": "931c66bf-771c-4a04-9fe0-32cebb600f69",
     "showTitle": false,
     "title": ""
    }
   },
   "source": [
    "## Train - Validation - Test Split\n",
    "The input data is split by AutoML into 3 sets:\n",
    "- Train (60% of the dataset used to train the model)\n",
    "- Validation (20% of the dataset used to tune the hyperparameters of the model)\n",
    "- Test (20% of the dataset used to report the true performance of the model on an unseen dataset)\n",
    "\n",
    "`_automl_split_col_0000` contains the information of which set a given row belongs to.\n",
    "We use this column to split the dataset into the above 3 sets. \n",
    "The column should not be used for training so it is dropped after split is done."
   ]
  },
  {
   "cell_type": "code",
   "execution_count": 0,
   "metadata": {
    "application/vnd.databricks.v1+cell": {
     "cellMetadata": {},
     "inputWidgets": {},
     "nuid": "3a166022-ecf4-4275-9caa-03f90174082a",
     "showTitle": false,
     "title": ""
    },
    "execution": {
     "iopub.execute_input": "2023-06-13T06:26:20.007776Z",
     "iopub.status.busy": "2023-06-13T06:26:20.007567Z",
     "iopub.status.idle": "2023-06-13T06:26:20.024635Z",
     "shell.execute_reply": "2023-06-13T06:26:20.023598Z"
    }
   },
   "outputs": [],
   "source": [
    "# AutoML completed train - validation - test split internally and used _automl_split_col_0000 to specify the set\n",
    "split_train_df = df_loaded.loc[df_loaded._automl_split_col_0000 == \"train\"]\n",
    "split_val_df = df_loaded.loc[df_loaded._automl_split_col_0000 == \"val\"]\n",
    "split_test_df = df_loaded.loc[df_loaded._automl_split_col_0000 == \"test\"]\n",
    "\n",
    "# Separate target column from features and drop _automl_split_col_0000\n",
    "X_train = split_train_df.drop([target_col, \"_automl_split_col_0000\"], axis=1)\n",
    "y_train = split_train_df[target_col]\n",
    "\n",
    "X_val = split_val_df.drop([target_col, \"_automl_split_col_0000\"], axis=1)\n",
    "y_val = split_val_df[target_col]\n",
    "\n",
    "X_test = split_test_df.drop([target_col, \"_automl_split_col_0000\"], axis=1)\n",
    "y_test = split_test_df[target_col]"
   ]
  },
  {
   "cell_type": "markdown",
   "metadata": {
    "application/vnd.databricks.v1+cell": {
     "cellMetadata": {},
     "inputWidgets": {},
     "nuid": "e095a26d-e72a-45b2-b843-3371ff6191d4",
     "showTitle": false,
     "title": ""
    }
   },
   "source": [
    "## Train regression model\n",
    "- Log relevant metrics to MLflow to track runs\n",
    "- All the runs are logged under [this MLflow experiment](#mlflow/experiments/3502351554730686)\n",
    "- Change the model parameters and re-run the training cell to log a different trial to the MLflow experiment\n",
    "- To view the full list of tunable hyperparameters, check the output of the cell below"
   ]
  },
  {
   "cell_type": "code",
   "execution_count": 0,
   "metadata": {
    "application/vnd.databricks.v1+cell": {
     "cellMetadata": {},
     "inputWidgets": {},
     "nuid": "3afa4a1d-0704-4f04-a03e-aa98d0c5d23e",
     "showTitle": false,
     "title": ""
    },
    "execution": {
     "iopub.execute_input": "2023-06-13T06:26:20.033258Z",
     "iopub.status.busy": "2023-06-13T06:26:20.032537Z",
     "iopub.status.idle": "2023-06-13T06:26:20.060328Z",
     "shell.execute_reply": "2023-06-13T06:26:20.059697Z"
    }
   },
   "outputs": [],
   "source": [
    "from sklearn.tree import DecisionTreeRegressor\n",
    "\n",
    "help(DecisionTreeRegressor)"
   ]
  },
  {
   "cell_type": "markdown",
   "metadata": {
    "application/vnd.databricks.v1+cell": {
     "cellMetadata": {},
     "inputWidgets": {},
     "nuid": "94f6b580-6cd6-42ff-8a93-1c21ae23dac1",
     "showTitle": false,
     "title": ""
    }
   },
   "source": [
    "### Define the objective function\n",
    "The objective function used to find optimal hyperparameters. By default, this notebook only runs\n",
    "this function once (`max_evals=1` in the `hyperopt.fmin` invocation) with fixed hyperparameters, but\n",
    "hyperparameters can be tuned by modifying `space`, defined below. `hyperopt.fmin` will then use this\n",
    "function's return value to search the space to minimize the loss."
   ]
  },
  {
   "cell_type": "code",
   "execution_count": 0,
   "metadata": {
    "application/vnd.databricks.v1+cell": {
     "cellMetadata": {},
     "inputWidgets": {},
     "nuid": "8d8de210-38fd-4fd5-9d99-399b5c023725",
     "showTitle": false,
     "title": ""
    },
    "execution": {
     "iopub.execute_input": "2023-06-13T06:26:20.066290Z",
     "iopub.status.busy": "2023-06-13T06:26:20.065650Z",
     "iopub.status.idle": "2023-06-13T06:26:20.260000Z",
     "shell.execute_reply": "2023-06-13T06:26:20.259108Z"
    }
   },
   "outputs": [],
   "source": [
    "import mlflow\n",
    "from mlflow.models import Model, infer_signature, ModelSignature\n",
    "from mlflow.pyfunc import PyFuncModel\n",
    "from mlflow import pyfunc\n",
    "import sklearn\n",
    "from sklearn import set_config\n",
    "from sklearn.pipeline import Pipeline\n",
    "from hyperopt import hp, tpe, fmin, STATUS_OK, Trials\n",
    "\n",
    "\n",
    "def objective(params):\n",
    "  with mlflow.start_run(experiment_id=\"3502351554730686\") as mlflow_run:\n",
    "    skdt_regressor = DecisionTreeRegressor(**params)\n",
    "\n",
    "    model = Pipeline([\n",
    "        (\"column_selector\", col_selector),\n",
    "        (\"preprocessor\", preprocessor),\n",
    "        (\"regressor\", skdt_regressor),\n",
    "    ])\n",
    "\n",
    "    # Enable automatic logging of input samples, metrics, parameters, and models\n",
    "    mlflow.sklearn.autolog(\n",
    "        log_input_examples=True,\n",
    "        silent=True,\n",
    "    )\n",
    "\n",
    "    model.fit(X_train, y_train)\n",
    "\n",
    "    \n",
    "    # Log metrics for the training set\n",
    "    mlflow_model = Model()\n",
    "    pyfunc.add_to_model(mlflow_model, loader_module=\"mlflow.sklearn\")\n",
    "    pyfunc_model = PyFuncModel(model_meta=mlflow_model, model_impl=model)\n",
    "    training_eval_result = mlflow.evaluate(\n",
    "        model=pyfunc_model,\n",
    "        data=X_train.assign(**{str(target_col):y_train}),\n",
    "        targets=target_col,\n",
    "        model_type=\"regressor\",\n",
    "        evaluator_config = {\"log_model_explainability\": False,\n",
    "                            \"metric_prefix\": \"training_\"}\n",
    "    )\n",
    "    # Log metrics for the validation set\n",
    "    val_eval_result = mlflow.evaluate(\n",
    "        model=pyfunc_model,\n",
    "        data=X_val.assign(**{str(target_col):y_val}),\n",
    "        targets=target_col,\n",
    "        model_type=\"regressor\",\n",
    "        evaluator_config= {\"log_model_explainability\": False,\n",
    "                           \"metric_prefix\": \"val_\"}\n",
    "   )\n",
    "    skdt_val_metrics = val_eval_result.metrics\n",
    "    # Log metrics for the test set\n",
    "    test_eval_result = mlflow.evaluate(\n",
    "        model=pyfunc_model,\n",
    "        data=X_test.assign(**{str(target_col):y_test}),\n",
    "        targets=target_col,\n",
    "        model_type=\"regressor\",\n",
    "        evaluator_config= {\"log_model_explainability\": False,\n",
    "                           \"metric_prefix\": \"test_\"}\n",
    "   )\n",
    "    skdt_test_metrics = test_eval_result.metrics\n",
    "\n",
    "    loss = skdt_val_metrics[\"val_r2_score\"]\n",
    "\n",
    "    # Truncate metric key names so they can be displayed together\n",
    "    skdt_val_metrics = {k.replace(\"val_\", \"\"): v for k, v in skdt_val_metrics.items()}\n",
    "    skdt_test_metrics = {k.replace(\"test_\", \"\"): v for k, v in skdt_test_metrics.items()}\n",
    "\n",
    "    return {\n",
    "      \"loss\": loss,\n",
    "      \"status\": STATUS_OK,\n",
    "      \"val_metrics\": skdt_val_metrics,\n",
    "      \"test_metrics\": skdt_test_metrics,\n",
    "      \"model\": model,\n",
    "      \"run\": mlflow_run,\n",
    "    }"
   ]
  },
  {
   "cell_type": "markdown",
   "metadata": {
    "application/vnd.databricks.v1+cell": {
     "cellMetadata": {},
     "inputWidgets": {},
     "nuid": "fb4cb508-a9dd-4784-9d30-10fcba480207",
     "showTitle": false,
     "title": ""
    }
   },
   "source": [
    "### Configure the hyperparameter search space\n",
    "Configure the search space of parameters. Parameters below are all constant expressions but can be\n",
    "modified to widen the search space. For example, when training a decision tree regressor, to allow\n",
    "the maximum tree depth to be either 2 or 3, set the key of 'max_depth' to\n",
    "`hp.choice('max_depth', [2, 3])`. Be sure to also increase `max_evals` in the `fmin` call below.\n",
    "\n",
    "See https://docs.databricks.com/applications/machine-learning/automl-hyperparam-tuning/index.html\n",
    "for more information on hyperparameter tuning as well as\n",
    "http://hyperopt.github.io/hyperopt/getting-started/search_spaces/ for documentation on supported\n",
    "search expressions.\n",
    "\n",
    "For documentation on parameters used by the model in use, please see:\n",
    "https://scikit-learn.org/stable/modules/generated/sklearn.tree.DecisionTreeRegressor.html\n",
    "\n",
    "NOTE: The above URL points to a stable version of the documentation corresponding to the last\n",
    "released version of the package. The documentation may differ slightly for the package version\n",
    "used by this notebook."
   ]
  },
  {
   "cell_type": "code",
   "execution_count": 0,
   "metadata": {
    "application/vnd.databricks.v1+cell": {
     "cellMetadata": {},
     "inputWidgets": {},
     "nuid": "89c37e43-3062-4ffe-a071-c4888961ee37",
     "showTitle": false,
     "title": ""
    },
    "execution": {
     "iopub.execute_input": "2023-06-13T06:26:20.267173Z",
     "iopub.status.busy": "2023-06-13T06:26:20.266962Z",
     "iopub.status.idle": "2023-06-13T06:26:20.277880Z",
     "shell.execute_reply": "2023-06-13T06:26:20.276503Z"
    }
   },
   "outputs": [],
   "source": [
    "space = {\n",
    "  \"criterion\": \"mse\",\n",
    "  \"max_depth\": 9,\n",
    "  \"max_features\": 0.5127567816003488,\n",
    "  \"min_samples_leaf\": 0.23017274970928758,\n",
    "  \"min_samples_split\": 0.08541156553055478,\n",
    "  \"random_state\": 750662008,\n",
    "}"
   ]
  },
  {
   "cell_type": "markdown",
   "metadata": {
    "application/vnd.databricks.v1+cell": {
     "cellMetadata": {},
     "inputWidgets": {},
     "nuid": "7f7711f5-5248-4f28-bd36-c3c484671c3a",
     "showTitle": false,
     "title": ""
    }
   },
   "source": [
    "### Run trials\n",
    "When widening the search space and training multiple models, switch to `SparkTrials` to parallelize\n",
    "training on Spark:\n",
    "```\n",
    "from hyperopt import SparkTrials\n",
    "trials = SparkTrials()\n",
    "```\n",
    "\n",
    "NOTE: While `Trials` starts an MLFlow run for each set of hyperparameters, `SparkTrials` only starts\n",
    "one top-level run; it will start a subrun for each set of hyperparameters.\n",
    "\n",
    "See http://hyperopt.github.io/hyperopt/scaleout/spark/ for more info."
   ]
  },
  {
   "cell_type": "code",
   "execution_count": 0,
   "metadata": {
    "application/vnd.databricks.v1+cell": {
     "cellMetadata": {},
     "inputWidgets": {},
     "nuid": "7c952565-6443-4331-9e4e-16b3476bcabe",
     "showTitle": false,
     "title": ""
    },
    "execution": {
     "iopub.execute_input": "2023-06-13T06:26:20.295638Z",
     "iopub.status.busy": "2023-06-13T06:26:20.292751Z",
     "iopub.status.idle": "2023-06-13T06:26:30.769075Z",
     "shell.execute_reply": "2023-06-13T06:26:30.768472Z"
    }
   },
   "outputs": [],
   "source": [
    "trials = Trials()\n",
    "fmin(objective,\n",
    "     space=space,\n",
    "     algo=tpe.suggest,\n",
    "     max_evals=1,  # Increase this when widening the hyperparameter search space.\n",
    "     trials=trials)\n",
    "\n",
    "best_result = trials.best_trial[\"result\"]\n",
    "model = best_result[\"model\"]\n",
    "mlflow_run = best_result[\"run\"]\n",
    "\n",
    "display(\n",
    "  pd.DataFrame(\n",
    "    [best_result[\"val_metrics\"], best_result[\"test_metrics\"]],\n",
    "    index=[\"validation\", \"test\"]))\n",
    "\n",
    "set_config(display=\"diagram\")\n",
    "model"
   ]
  },
  {
   "cell_type": "markdown",
   "metadata": {
    "application/vnd.databricks.v1+cell": {
     "cellMetadata": {},
     "inputWidgets": {},
     "nuid": "f8a87f6d-1996-4a8a-9382-53e29549ddb5",
     "showTitle": false,
     "title": ""
    }
   },
   "source": [
    "## Feature importance\n",
    "\n",
    "SHAP is a game-theoretic approach to explain machine learning models, providing a summary plot\n",
    "of the relationship between features and model output. Features are ranked in descending order of\n",
    "importance, and impact/color describe the correlation between the feature and the target variable.\n",
    "- Generating SHAP feature importance is a very memory intensive operation, so to ensure that AutoML can run trials without\n",
    "  running out of memory, we disable SHAP by default.<br />\n",
    "  You can set the flag defined below to `shap_enabled = True` and re-run this notebook to see the SHAP plots.\n",
    "- To reduce the computational overhead of each trial, a single example is sampled from the validation set to explain.<br />\n",
    "  For more thorough results, increase the sample size of explanations, or provide your own examples to explain.\n",
    "- SHAP cannot explain models using data with nulls; if your dataset has any, both the background data and\n",
    "  examples to explain will be imputed using the mode (most frequent values). This affects the computed\n",
    "  SHAP values, as the imputed samples may not match the actual data distribution.\n",
    "\n",
    "For more information on how to read Shapley values, see the [SHAP documentation](https://shap.readthedocs.io/en/latest/example_notebooks/overviews/An%20introduction%20to%20explainable%20AI%20with%20Shapley%20values.html)."
   ]
  },
  {
   "cell_type": "code",
   "execution_count": 0,
   "metadata": {
    "application/vnd.databricks.v1+cell": {
     "cellMetadata": {},
     "inputWidgets": {},
     "nuid": "fb56588c-454a-4582-9f87-81e79984d72c",
     "showTitle": false,
     "title": ""
    },
    "execution": {
     "iopub.execute_input": "2023-06-13T06:26:30.772876Z",
     "iopub.status.busy": "2023-06-13T06:26:30.772380Z",
     "iopub.status.idle": "2023-06-13T06:26:30.776326Z",
     "shell.execute_reply": "2023-06-13T06:26:30.775542Z"
    }
   },
   "outputs": [],
   "source": [
    "# Set this flag to True and re-run the notebook to see the SHAP plots\n",
    "shap_enabled = False"
   ]
  },
  {
   "cell_type": "code",
   "execution_count": 0,
   "metadata": {
    "application/vnd.databricks.v1+cell": {
     "cellMetadata": {},
     "inputWidgets": {},
     "nuid": "a8c457eb-c4f8-4811-a20a-8f996f940dfc",
     "showTitle": false,
     "title": ""
    },
    "execution": {
     "iopub.execute_input": "2023-06-13T06:26:30.787656Z",
     "iopub.status.busy": "2023-06-13T06:26:30.781712Z",
     "iopub.status.idle": "2023-06-13T06:26:30.794796Z",
     "shell.execute_reply": "2023-06-13T06:26:30.794097Z"
    }
   },
   "outputs": [],
   "source": [
    "if shap_enabled:\n",
    "    mlflow.autolog(disable=True)\n",
    "    mlflow.sklearn.autolog(disable=True)\n",
    "    from shap import KernelExplainer, summary_plot\n",
    "    # Sample background data for SHAP Explainer. Increase the sample size to reduce variance.\n",
    "    train_sample = X_train.sample(n=min(100, X_train.shape[0]), random_state=750662008)\n",
    "\n",
    "    # Sample some rows from the validation set to explain. Increase the sample size for more thorough results.\n",
    "    example = X_val.sample(n=min(100, X_val.shape[0]), random_state=750662008)\n",
    "\n",
    "    # Use Kernel SHAP to explain feature importance on the sampled rows from the validation set.\n",
    "    predict = lambda x: model.predict(pd.DataFrame(x, columns=X_train.columns))\n",
    "    explainer = KernelExplainer(predict, train_sample, link=\"identity\")\n",
    "    shap_values = explainer.shap_values(example, l1_reg=False, nsamples=500)\n",
    "    summary_plot(shap_values, example)"
   ]
  },
  {
   "cell_type": "markdown",
   "metadata": {
    "application/vnd.databricks.v1+cell": {
     "cellMetadata": {},
     "inputWidgets": {},
     "nuid": "ce2fb375-8321-4017-8198-212b8b45ca1a",
     "showTitle": false,
     "title": ""
    }
   },
   "source": [
    "## Inference\n",
    "[The MLflow Model Registry](https://docs.databricks.com/applications/mlflow/model-registry.html) is a collaborative hub where teams can share ML models, work together from experimentation to online testing and production, integrate with approval and governance workflows, and monitor ML deployments and their performance. The snippets below show how to add the model trained in this notebook to the model registry and to retrieve it later for inference.\n",
    "\n",
    "> **NOTE:** The `model_uri` for the model already trained in this notebook can be found in the cell below\n",
    "\n",
    "### Register to Model Registry\n",
    "```\n",
    "model_name = \"Example\"\n",
    "\n",
    "model_uri = f\"runs:/{ mlflow_run.info.run_id }/model\"\n",
    "registered_model_version = mlflow.register_model(model_uri, model_name)\n",
    "```\n",
    "\n",
    "### Load from Model Registry\n",
    "```\n",
    "model_name = \"Example\"\n",
    "model_version = registered_model_version.version\n",
    "\n",
    "model_uri=f\"models:/{model_name}/{model_version}\"\n",
    "model = mlflow.pyfunc.load_model(model_uri=model_uri)\n",
    "model.predict(input_X)\n",
    "```\n",
    "\n",
    "### Load model without registering\n",
    "```\n",
    "model_uri = f\"runs:/{ mlflow_run.info.run_id }/model\"\n",
    "\n",
    "model = mlflow.pyfunc.load_model(model_uri=model_uri)\n",
    "model.predict(input_X)\n",
    "```"
   ]
  },
  {
   "cell_type": "code",
   "execution_count": 0,
   "metadata": {
    "application/vnd.databricks.v1+cell": {
     "cellMetadata": {},
     "inputWidgets": {},
     "nuid": "fdf93c09-c8c8-4a04-b148-b9890a2de524",
     "showTitle": false,
     "title": ""
    },
    "execution": {
     "iopub.execute_input": "2023-06-13T06:26:30.799955Z",
     "iopub.status.busy": "2023-06-13T06:26:30.799456Z",
     "iopub.status.idle": "2023-06-13T06:26:30.808566Z",
     "shell.execute_reply": "2023-06-13T06:26:30.807516Z"
    }
   },
   "outputs": [],
   "source": [
    "# model_uri for the generated model\n",
    "print(f\"runs:/{ mlflow_run.info.run_id }/model\")"
   ]
  }
 ],
 "metadata": {
  "application/vnd.databricks.v1+notebook": {
   "dashboards": [],
   "language": "python",
   "notebookMetadata": {},
   "notebookName": "23-06-13-06:09-DecisionTreeRegressor-7ef5f61b8843b8c7fc0bd66e3760d758",
   "widgets": {}
  },
  "language_info": {
   "codemirror_mode": {
    "name": "ipython",
    "version": 3
   },
   "file_extension": ".py",
   "mimetype": "text/x-python",
   "name": "python",
   "nbconvert_exporter": "python",
   "pygments_lexer": "ipython3",
   "version": "3.10.6"
  },
  "name": "DecisionTreeRegressor-7ef5f61b8843b8c7fc0bd66e3760d758"
 },
 "nbformat": 4,
 "nbformat_minor": 0
}
