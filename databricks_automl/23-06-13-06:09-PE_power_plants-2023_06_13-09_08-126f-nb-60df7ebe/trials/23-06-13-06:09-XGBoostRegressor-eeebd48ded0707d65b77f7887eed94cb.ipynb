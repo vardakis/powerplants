{
 "cells": [
  {
   "cell_type": "markdown",
   "metadata": {
    "application/vnd.databricks.v1+cell": {
     "cellMetadata": {},
     "inputWidgets": {},
     "nuid": "ce262051-d0fc-4bf8-8d58-4a0ca665303d",
     "showTitle": false,
     "title": ""
    }
   },
   "source": [
    "# XGBoost Regressor training\n",
    "- This is an auto-generated notebook.\n",
    "- To reproduce these results, attach this notebook to a cluster with runtime version **13.1.x-cpu-ml-scala2.12**, and rerun it.\n",
    "- Compare trials in the [MLflow experiment](#mlflow/experiments/3502351554730686).\n",
    "- Clone this notebook into your project folder by selecting **File > Clone** in the notebook toolbar."
   ]
  },
  {
   "cell_type": "code",
   "execution_count": 0,
   "metadata": {
    "application/vnd.databricks.v1+cell": {
     "cellMetadata": {},
     "inputWidgets": {},
     "nuid": "0b720197-1e8a-456c-a283-c220ecdd081c",
     "showTitle": false,
     "title": ""
    },
    "execution": {
     "iopub.execute_input": "2023-06-13T06:29:38.808222Z",
     "iopub.status.busy": "2023-06-13T06:29:38.807803Z",
     "iopub.status.idle": "2023-06-13T06:29:38.815011Z",
     "shell.execute_reply": "2023-06-13T06:29:38.814178Z"
    }
   },
   "outputs": [],
   "source": [
    "import mlflow\n",
    "import databricks.automl_runtime\n",
    "\n",
    "target_col = \"PE\""
   ]
  },
  {
   "cell_type": "markdown",
   "metadata": {
    "application/vnd.databricks.v1+cell": {
     "cellMetadata": {},
     "inputWidgets": {},
     "nuid": "2e6ccf74-31dc-48e1-9017-4db60a63ff68",
     "showTitle": false,
     "title": ""
    }
   },
   "source": [
    "## Load Data"
   ]
  },
  {
   "cell_type": "code",
   "execution_count": 0,
   "metadata": {
    "application/vnd.databricks.v1+cell": {
     "cellMetadata": {},
     "inputWidgets": {},
     "nuid": "7d2a3fd6-8511-4a59-baf4-dfe02b3fdeca",
     "showTitle": false,
     "title": ""
    },
    "execution": {
     "iopub.execute_input": "2023-06-13T06:29:38.818859Z",
     "iopub.status.busy": "2023-06-13T06:29:38.818454Z",
     "iopub.status.idle": "2023-06-13T06:29:39.671192Z",
     "shell.execute_reply": "2023-06-13T06:29:39.670536Z"
    }
   },
   "outputs": [],
   "source": [
    "import mlflow\n",
    "import os\n",
    "import uuid\n",
    "import shutil\n",
    "import pandas as pd\n",
    "\n",
    "# Create temp directory to download input data from MLflow\n",
    "input_temp_dir = os.path.join(os.environ[\"SPARK_LOCAL_DIRS\"], \"tmp\", str(uuid.uuid4())[:8])\n",
    "os.makedirs(input_temp_dir)\n",
    "\n",
    "\n",
    "# Download the artifact and read it into a pandas DataFrame\n",
    "input_data_path = mlflow.artifacts.download_artifacts(run_id=\"8774ba6301154241a4250b4f27615a53\", artifact_path=\"data\", dst_path=input_temp_dir)\n",
    "\n",
    "df_loaded = pd.read_parquet(os.path.join(input_data_path, \"training_data\"))\n",
    "# Delete the temp data\n",
    "shutil.rmtree(input_temp_dir)\n",
    "\n",
    "# Preview data\n",
    "df_loaded.head(5)"
   ]
  },
  {
   "cell_type": "markdown",
   "metadata": {
    "application/vnd.databricks.v1+cell": {
     "cellMetadata": {},
     "inputWidgets": {},
     "nuid": "6e1d28ee-2d70-459b-aa1f-b94814a31df8",
     "showTitle": false,
     "title": ""
    }
   },
   "source": [
    "### Select supported columns\n",
    "Select only the columns that are supported. This allows us to train a model that can predict on a dataset that has extra columns that are not used in training.\n",
    "`[]` are dropped in the pipelines. See the Alerts tab of the AutoML Experiment page for details on why these columns are dropped."
   ]
  },
  {
   "cell_type": "code",
   "execution_count": 0,
   "metadata": {
    "application/vnd.databricks.v1+cell": {
     "cellMetadata": {},
     "inputWidgets": {},
     "nuid": "1c37438e-52de-4ab5-b7d3-ef88c6197aa8",
     "showTitle": false,
     "title": ""
    },
    "execution": {
     "iopub.execute_input": "2023-06-13T06:29:39.677523Z",
     "iopub.status.busy": "2023-06-13T06:29:39.675778Z",
     "iopub.status.idle": "2023-06-13T06:29:40.302192Z",
     "shell.execute_reply": "2023-06-13T06:29:40.301246Z"
    }
   },
   "outputs": [],
   "source": [
    "from databricks.automl_runtime.sklearn.column_selector import ColumnSelector\n",
    "supported_cols = [\"AP\", \"V\", \"RH\", \"AT\"]\n",
    "col_selector = ColumnSelector(supported_cols)"
   ]
  },
  {
   "cell_type": "markdown",
   "metadata": {
    "application/vnd.databricks.v1+cell": {
     "cellMetadata": {},
     "inputWidgets": {},
     "nuid": "0d56d2d1-6e35-4394-814a-32b5ec75518a",
     "showTitle": false,
     "title": ""
    }
   },
   "source": [
    "## Preprocessors"
   ]
  },
  {
   "cell_type": "markdown",
   "metadata": {
    "application/vnd.databricks.v1+cell": {
     "cellMetadata": {},
     "inputWidgets": {},
     "nuid": "00f789bf-1946-4c50-9983-c2448d886b4e",
     "showTitle": false,
     "title": ""
    }
   },
   "source": [
    "### Numerical columns\n",
    "\n",
    "Missing values for numerical columns are imputed with mean by default."
   ]
  },
  {
   "cell_type": "code",
   "execution_count": 0,
   "metadata": {
    "application/vnd.databricks.v1+cell": {
     "cellMetadata": {},
     "inputWidgets": {},
     "nuid": "e73e166f-bd1e-4583-a20c-c8943588907a",
     "showTitle": false,
     "title": ""
    },
    "execution": {
     "iopub.execute_input": "2023-06-13T06:29:40.307170Z",
     "iopub.status.busy": "2023-06-13T06:29:40.306870Z",
     "iopub.status.idle": "2023-06-13T06:29:40.313908Z",
     "shell.execute_reply": "2023-06-13T06:29:40.312343Z"
    }
   },
   "outputs": [],
   "source": [
    "from sklearn.compose import ColumnTransformer\n",
    "from sklearn.impute import SimpleImputer\n",
    "from sklearn.pipeline import Pipeline\n",
    "from sklearn.preprocessing import FunctionTransformer, StandardScaler\n",
    "\n",
    "num_imputers = []\n",
    "num_imputers.append((\"impute_mean\", SimpleImputer(), [\"AP\", \"AT\", \"RH\", \"V\"]))\n",
    "\n",
    "numerical_pipeline = Pipeline(steps=[\n",
    "    (\"converter\", FunctionTransformer(lambda df: df.apply(pd.to_numeric, errors='coerce'))),\n",
    "    (\"imputers\", ColumnTransformer(num_imputers)),\n",
    "    (\"standardizer\", StandardScaler()),\n",
    "])\n",
    "\n",
    "numerical_transformers = [(\"numerical\", numerical_pipeline, [\"AP\", \"V\", \"RH\", \"AT\"])]"
   ]
  },
  {
   "cell_type": "code",
   "execution_count": 0,
   "metadata": {
    "application/vnd.databricks.v1+cell": {
     "cellMetadata": {},
     "inputWidgets": {},
     "nuid": "cd4c9bcd-698c-43f8-a736-108ccb41837d",
     "showTitle": false,
     "title": ""
    },
    "execution": {
     "iopub.execute_input": "2023-06-13T06:29:40.317442Z",
     "iopub.status.busy": "2023-06-13T06:29:40.317236Z",
     "iopub.status.idle": "2023-06-13T06:29:40.326427Z",
     "shell.execute_reply": "2023-06-13T06:29:40.325673Z"
    }
   },
   "outputs": [],
   "source": [
    "from sklearn.compose import ColumnTransformer\n",
    "\n",
    "transformers = numerical_transformers\n",
    "\n",
    "preprocessor = ColumnTransformer(transformers, remainder=\"passthrough\", sparse_threshold=0)"
   ]
  },
  {
   "cell_type": "markdown",
   "metadata": {
    "application/vnd.databricks.v1+cell": {
     "cellMetadata": {},
     "inputWidgets": {},
     "nuid": "500a73dd-3661-4e45-8655-2605407e2ff6",
     "showTitle": false,
     "title": ""
    }
   },
   "source": [
    "## Train - Validation - Test Split\n",
    "The input data is split by AutoML into 3 sets:\n",
    "- Train (60% of the dataset used to train the model)\n",
    "- Validation (20% of the dataset used to tune the hyperparameters of the model)\n",
    "- Test (20% of the dataset used to report the true performance of the model on an unseen dataset)\n",
    "\n",
    "`_automl_split_col_0000` contains the information of which set a given row belongs to.\n",
    "We use this column to split the dataset into the above 3 sets. \n",
    "The column should not be used for training so it is dropped after split is done."
   ]
  },
  {
   "cell_type": "code",
   "execution_count": 0,
   "metadata": {
    "application/vnd.databricks.v1+cell": {
     "cellMetadata": {},
     "inputWidgets": {},
     "nuid": "de3824a0-dd56-44a5-b2a5-d9456e8ca5e3",
     "showTitle": false,
     "title": ""
    },
    "execution": {
     "iopub.execute_input": "2023-06-13T06:29:40.332442Z",
     "iopub.status.busy": "2023-06-13T06:29:40.332234Z",
     "iopub.status.idle": "2023-06-13T06:29:40.345578Z",
     "shell.execute_reply": "2023-06-13T06:29:40.344910Z"
    }
   },
   "outputs": [],
   "source": [
    "# AutoML completed train - validation - test split internally and used _automl_split_col_0000 to specify the set\n",
    "split_train_df = df_loaded.loc[df_loaded._automl_split_col_0000 == \"train\"]\n",
    "split_val_df = df_loaded.loc[df_loaded._automl_split_col_0000 == \"val\"]\n",
    "split_test_df = df_loaded.loc[df_loaded._automl_split_col_0000 == \"test\"]\n",
    "\n",
    "# Separate target column from features and drop _automl_split_col_0000\n",
    "X_train = split_train_df.drop([target_col, \"_automl_split_col_0000\"], axis=1)\n",
    "y_train = split_train_df[target_col]\n",
    "\n",
    "X_val = split_val_df.drop([target_col, \"_automl_split_col_0000\"], axis=1)\n",
    "y_val = split_val_df[target_col]\n",
    "\n",
    "X_test = split_test_df.drop([target_col, \"_automl_split_col_0000\"], axis=1)\n",
    "y_test = split_test_df[target_col]"
   ]
  },
  {
   "cell_type": "markdown",
   "metadata": {
    "application/vnd.databricks.v1+cell": {
     "cellMetadata": {},
     "inputWidgets": {},
     "nuid": "4f2b14e7-3c67-492a-b17d-7598548392c8",
     "showTitle": false,
     "title": ""
    }
   },
   "source": [
    "## Train regression model\n",
    "- Log relevant metrics to MLflow to track runs\n",
    "- All the runs are logged under [this MLflow experiment](#mlflow/experiments/3502351554730686)\n",
    "- Change the model parameters and re-run the training cell to log a different trial to the MLflow experiment\n",
    "- To view the full list of tunable hyperparameters, check the output of the cell below"
   ]
  },
  {
   "cell_type": "code",
   "execution_count": 0,
   "metadata": {
    "application/vnd.databricks.v1+cell": {
     "cellMetadata": {},
     "inputWidgets": {},
     "nuid": "baad6012-4f88-45e2-8e1b-b51102036f93",
     "showTitle": false,
     "title": ""
    },
    "execution": {
     "iopub.execute_input": "2023-06-13T06:29:40.350422Z",
     "iopub.status.busy": "2023-06-13T06:29:40.350199Z",
     "iopub.status.idle": "2023-06-13T06:29:40.382612Z",
     "shell.execute_reply": "2023-06-13T06:29:40.382043Z"
    }
   },
   "outputs": [],
   "source": [
    "from xgboost import XGBRegressor\n",
    "\n",
    "help(XGBRegressor)"
   ]
  },
  {
   "cell_type": "markdown",
   "metadata": {
    "application/vnd.databricks.v1+cell": {
     "cellMetadata": {},
     "inputWidgets": {},
     "nuid": "1489d43e-ed03-4e5f-bb96-b7d871f416b1",
     "showTitle": false,
     "title": ""
    }
   },
   "source": [
    "### Define the objective function\n",
    "The objective function used to find optimal hyperparameters. By default, this notebook only runs\n",
    "this function once (`max_evals=1` in the `hyperopt.fmin` invocation) with fixed hyperparameters, but\n",
    "hyperparameters can be tuned by modifying `space`, defined below. `hyperopt.fmin` will then use this\n",
    "function's return value to search the space to minimize the loss."
   ]
  },
  {
   "cell_type": "code",
   "execution_count": 0,
   "metadata": {
    "application/vnd.databricks.v1+cell": {
     "cellMetadata": {},
     "inputWidgets": {},
     "nuid": "5ed2ec5a-89cf-4052-87d6-d6de90228065",
     "showTitle": false,
     "title": ""
    },
    "execution": {
     "iopub.execute_input": "2023-06-13T06:29:40.387978Z",
     "iopub.status.busy": "2023-06-13T06:29:40.387583Z",
     "iopub.status.idle": "2023-06-13T06:29:40.531823Z",
     "shell.execute_reply": "2023-06-13T06:29:40.531125Z"
    }
   },
   "outputs": [],
   "source": [
    "import mlflow\n",
    "from mlflow.models import Model, infer_signature, ModelSignature\n",
    "from mlflow.pyfunc import PyFuncModel\n",
    "from mlflow import pyfunc\n",
    "import sklearn\n",
    "from sklearn import set_config\n",
    "from sklearn.pipeline import Pipeline\n",
    "from hyperopt import hp, tpe, fmin, STATUS_OK, Trials\n",
    "\n",
    "\n",
    "# Create a separate pipeline to transform the validation dataset. This is used for early stopping.\n",
    "pipeline_val = Pipeline([\n",
    "    (\"column_selector\", col_selector),\n",
    "    (\"preprocessor\", preprocessor),\n",
    "])\n",
    "\n",
    "mlflow.sklearn.autolog(disable=True)\n",
    "pipeline_val.fit(X_train, y_train)\n",
    "X_val_processed = pipeline_val.transform(X_val)\n",
    "\n",
    "def objective(params):\n",
    "  with mlflow.start_run(experiment_id=\"3502351554730686\") as mlflow_run:\n",
    "    xgb_regressor = XGBRegressor(**params)\n",
    "\n",
    "    model = Pipeline([\n",
    "        (\"column_selector\", col_selector),\n",
    "        (\"preprocessor\", preprocessor),\n",
    "        (\"regressor\", xgb_regressor),\n",
    "    ])\n",
    "\n",
    "    # Enable automatic logging of input samples, metrics, parameters, and models\n",
    "    mlflow.sklearn.autolog(\n",
    "        log_input_examples=True,\n",
    "        silent=True,\n",
    "    )\n",
    "\n",
    "    model.fit(X_train, y_train, regressor__early_stopping_rounds=5, regressor__verbose=False, regressor__eval_set=[(X_val_processed,y_val)])\n",
    "\n",
    "    \n",
    "    # Log metrics for the training set\n",
    "    mlflow_model = Model()\n",
    "    pyfunc.add_to_model(mlflow_model, loader_module=\"mlflow.sklearn\")\n",
    "    pyfunc_model = PyFuncModel(model_meta=mlflow_model, model_impl=model)\n",
    "    training_eval_result = mlflow.evaluate(\n",
    "        model=pyfunc_model,\n",
    "        data=X_train.assign(**{str(target_col):y_train}),\n",
    "        targets=target_col,\n",
    "        model_type=\"regressor\",\n",
    "        evaluator_config = {\"log_model_explainability\": False,\n",
    "                            \"metric_prefix\": \"training_\"}\n",
    "    )\n",
    "    # Log metrics for the validation set\n",
    "    val_eval_result = mlflow.evaluate(\n",
    "        model=pyfunc_model,\n",
    "        data=X_val.assign(**{str(target_col):y_val}),\n",
    "        targets=target_col,\n",
    "        model_type=\"regressor\",\n",
    "        evaluator_config= {\"log_model_explainability\": False,\n",
    "                           \"metric_prefix\": \"val_\"}\n",
    "   )\n",
    "    xgb_val_metrics = val_eval_result.metrics\n",
    "    # Log metrics for the test set\n",
    "    test_eval_result = mlflow.evaluate(\n",
    "        model=pyfunc_model,\n",
    "        data=X_test.assign(**{str(target_col):y_test}),\n",
    "        targets=target_col,\n",
    "        model_type=\"regressor\",\n",
    "        evaluator_config= {\"log_model_explainability\": False,\n",
    "                           \"metric_prefix\": \"test_\"}\n",
    "   )\n",
    "    xgb_test_metrics = test_eval_result.metrics\n",
    "\n",
    "    loss = xgb_val_metrics[\"val_r2_score\"]\n",
    "\n",
    "    # Truncate metric key names so they can be displayed together\n",
    "    xgb_val_metrics = {k.replace(\"val_\", \"\"): v for k, v in xgb_val_metrics.items()}\n",
    "    xgb_test_metrics = {k.replace(\"test_\", \"\"): v for k, v in xgb_test_metrics.items()}\n",
    "\n",
    "    return {\n",
    "      \"loss\": loss,\n",
    "      \"status\": STATUS_OK,\n",
    "      \"val_metrics\": xgb_val_metrics,\n",
    "      \"test_metrics\": xgb_test_metrics,\n",
    "      \"model\": model,\n",
    "      \"run\": mlflow_run,\n",
    "    }"
   ]
  },
  {
   "cell_type": "markdown",
   "metadata": {
    "application/vnd.databricks.v1+cell": {
     "cellMetadata": {},
     "inputWidgets": {},
     "nuid": "aff989da-753b-4cbc-88c5-3f49cef93fba",
     "showTitle": false,
     "title": ""
    }
   },
   "source": [
    "### Configure the hyperparameter search space\n",
    "Configure the search space of parameters. Parameters below are all constant expressions but can be\n",
    "modified to widen the search space. For example, when training a decision tree regressor, to allow\n",
    "the maximum tree depth to be either 2 or 3, set the key of 'max_depth' to\n",
    "`hp.choice('max_depth', [2, 3])`. Be sure to also increase `max_evals` in the `fmin` call below.\n",
    "\n",
    "See https://docs.databricks.com/applications/machine-learning/automl-hyperparam-tuning/index.html\n",
    "for more information on hyperparameter tuning as well as\n",
    "http://hyperopt.github.io/hyperopt/getting-started/search_spaces/ for documentation on supported\n",
    "search expressions.\n",
    "\n",
    "For documentation on parameters used by the model in use, please see:\n",
    "https://xgboost.readthedocs.io/en/stable/python/python_api.html#xgboost.XGBRegressor\n",
    "\n",
    "NOTE: The above URL points to a stable version of the documentation corresponding to the last\n",
    "released version of the package. The documentation may differ slightly for the package version\n",
    "used by this notebook."
   ]
  },
  {
   "cell_type": "code",
   "execution_count": 0,
   "metadata": {
    "application/vnd.databricks.v1+cell": {
     "cellMetadata": {},
     "inputWidgets": {},
     "nuid": "8a86c14b-7149-483f-993a-27be153a95c7",
     "showTitle": false,
     "title": ""
    },
    "execution": {
     "iopub.execute_input": "2023-06-13T06:29:40.536017Z",
     "iopub.status.busy": "2023-06-13T06:29:40.535352Z",
     "iopub.status.idle": "2023-06-13T06:29:40.539351Z",
     "shell.execute_reply": "2023-06-13T06:29:40.538789Z"
    }
   },
   "outputs": [],
   "source": [
    "space = {\n",
    "  \"colsample_bytree\": 0.6304410475217663,\n",
    "  \"learning_rate\": 0.593514269938108,\n",
    "  \"max_depth\": 7,\n",
    "  \"min_child_weight\": 3,\n",
    "  \"n_estimators\": 150,\n",
    "  \"n_jobs\": 100,\n",
    "  \"subsample\": 0.7283222928555619,\n",
    "  \"verbosity\": 0,\n",
    "  \"random_state\": 750662008,\n",
    "}"
   ]
  },
  {
   "cell_type": "markdown",
   "metadata": {
    "application/vnd.databricks.v1+cell": {
     "cellMetadata": {},
     "inputWidgets": {},
     "nuid": "d9d8419d-3ba6-4960-ad4d-83e5bc03ca07",
     "showTitle": false,
     "title": ""
    }
   },
   "source": [
    "### Run trials\n",
    "When widening the search space and training multiple models, switch to `SparkTrials` to parallelize\n",
    "training on Spark:\n",
    "```\n",
    "from hyperopt import SparkTrials\n",
    "trials = SparkTrials()\n",
    "```\n",
    "\n",
    "NOTE: While `Trials` starts an MLFlow run for each set of hyperparameters, `SparkTrials` only starts\n",
    "one top-level run; it will start a subrun for each set of hyperparameters.\n",
    "\n",
    "See http://hyperopt.github.io/hyperopt/scaleout/spark/ for more info."
   ]
  },
  {
   "cell_type": "code",
   "execution_count": 0,
   "metadata": {
    "application/vnd.databricks.v1+cell": {
     "cellMetadata": {},
     "inputWidgets": {},
     "nuid": "6c2b5fc4-2827-4f4f-8d20-59793949b5de",
     "showTitle": false,
     "title": ""
    },
    "execution": {
     "iopub.execute_input": "2023-06-13T06:29:40.543149Z",
     "iopub.status.busy": "2023-06-13T06:29:40.542683Z",
     "iopub.status.idle": "2023-06-13T06:29:48.499326Z",
     "shell.execute_reply": "2023-06-13T06:29:48.498508Z"
    }
   },
   "outputs": [],
   "source": [
    "trials = Trials()\n",
    "fmin(objective,\n",
    "     space=space,\n",
    "     algo=tpe.suggest,\n",
    "     max_evals=1,  # Increase this when widening the hyperparameter search space.\n",
    "     trials=trials)\n",
    "\n",
    "best_result = trials.best_trial[\"result\"]\n",
    "model = best_result[\"model\"]\n",
    "mlflow_run = best_result[\"run\"]\n",
    "\n",
    "display(\n",
    "  pd.DataFrame(\n",
    "    [best_result[\"val_metrics\"], best_result[\"test_metrics\"]],\n",
    "    index=[\"validation\", \"test\"]))\n",
    "\n",
    "set_config(display=\"diagram\")\n",
    "model"
   ]
  },
  {
   "cell_type": "markdown",
   "metadata": {
    "application/vnd.databricks.v1+cell": {
     "cellMetadata": {},
     "inputWidgets": {},
     "nuid": "20a0dd0e-aa52-4680-9745-7329961f55dc",
     "showTitle": false,
     "title": ""
    }
   },
   "source": [
    "## Feature importance\n",
    "\n",
    "SHAP is a game-theoretic approach to explain machine learning models, providing a summary plot\n",
    "of the relationship between features and model output. Features are ranked in descending order of\n",
    "importance, and impact/color describe the correlation between the feature and the target variable.\n",
    "- Generating SHAP feature importance is a very memory intensive operation, so to ensure that AutoML can run trials without\n",
    "  running out of memory, we disable SHAP by default.<br />\n",
    "  You can set the flag defined below to `shap_enabled = True` and re-run this notebook to see the SHAP plots.\n",
    "- To reduce the computational overhead of each trial, a single example is sampled from the validation set to explain.<br />\n",
    "  For more thorough results, increase the sample size of explanations, or provide your own examples to explain.\n",
    "- SHAP cannot explain models using data with nulls; if your dataset has any, both the background data and\n",
    "  examples to explain will be imputed using the mode (most frequent values). This affects the computed\n",
    "  SHAP values, as the imputed samples may not match the actual data distribution.\n",
    "\n",
    "For more information on how to read Shapley values, see the [SHAP documentation](https://shap.readthedocs.io/en/latest/example_notebooks/overviews/An%20introduction%20to%20explainable%20AI%20with%20Shapley%20values.html)."
   ]
  },
  {
   "cell_type": "code",
   "execution_count": 0,
   "metadata": {
    "application/vnd.databricks.v1+cell": {
     "cellMetadata": {},
     "inputWidgets": {},
     "nuid": "b0c4ff95-136f-4fe4-9cd4-165a073de937",
     "showTitle": false,
     "title": ""
    },
    "execution": {
     "iopub.execute_input": "2023-06-13T06:29:48.503633Z",
     "iopub.status.busy": "2023-06-13T06:29:48.502943Z",
     "iopub.status.idle": "2023-06-13T06:29:48.506955Z",
     "shell.execute_reply": "2023-06-13T06:29:48.506178Z"
    }
   },
   "outputs": [],
   "source": [
    "# Set this flag to True and re-run the notebook to see the SHAP plots\n",
    "shap_enabled = False"
   ]
  },
  {
   "cell_type": "code",
   "execution_count": 0,
   "metadata": {
    "application/vnd.databricks.v1+cell": {
     "cellMetadata": {},
     "inputWidgets": {},
     "nuid": "87755333-08f3-4729-b20e-a522ef55952c",
     "showTitle": false,
     "title": ""
    },
    "execution": {
     "iopub.execute_input": "2023-06-13T06:29:48.510662Z",
     "iopub.status.busy": "2023-06-13T06:29:48.510270Z",
     "iopub.status.idle": "2023-06-13T06:29:48.517158Z",
     "shell.execute_reply": "2023-06-13T06:29:48.515953Z"
    }
   },
   "outputs": [],
   "source": [
    "if shap_enabled:\n",
    "    mlflow.autolog(disable=True)\n",
    "    mlflow.sklearn.autolog(disable=True)\n",
    "    from shap import KernelExplainer, summary_plot\n",
    "    # Sample background data for SHAP Explainer. Increase the sample size to reduce variance.\n",
    "    train_sample = X_train.sample(n=min(100, X_train.shape[0]), random_state=750662008)\n",
    "\n",
    "    # Sample some rows from the validation set to explain. Increase the sample size for more thorough results.\n",
    "    example = X_val.sample(n=min(100, X_val.shape[0]), random_state=750662008)\n",
    "\n",
    "    # Use Kernel SHAP to explain feature importance on the sampled rows from the validation set.\n",
    "    predict = lambda x: model.predict(pd.DataFrame(x, columns=X_train.columns))\n",
    "    explainer = KernelExplainer(predict, train_sample, link=\"identity\")\n",
    "    shap_values = explainer.shap_values(example, l1_reg=False, nsamples=500)\n",
    "    summary_plot(shap_values, example)"
   ]
  },
  {
   "cell_type": "markdown",
   "metadata": {
    "application/vnd.databricks.v1+cell": {
     "cellMetadata": {},
     "inputWidgets": {},
     "nuid": "b8d80e52-5ffe-41aa-9c30-c8760430eb54",
     "showTitle": false,
     "title": ""
    }
   },
   "source": [
    "## Inference\n",
    "[The MLflow Model Registry](https://docs.databricks.com/applications/mlflow/model-registry.html) is a collaborative hub where teams can share ML models, work together from experimentation to online testing and production, integrate with approval and governance workflows, and monitor ML deployments and their performance. The snippets below show how to add the model trained in this notebook to the model registry and to retrieve it later for inference.\n",
    "\n",
    "> **NOTE:** The `model_uri` for the model already trained in this notebook can be found in the cell below\n",
    "\n",
    "### Register to Model Registry\n",
    "```\n",
    "model_name = \"Example\"\n",
    "\n",
    "model_uri = f\"runs:/{ mlflow_run.info.run_id }/model\"\n",
    "registered_model_version = mlflow.register_model(model_uri, model_name)\n",
    "```\n",
    "\n",
    "### Load from Model Registry\n",
    "```\n",
    "model_name = \"Example\"\n",
    "model_version = registered_model_version.version\n",
    "\n",
    "model_uri=f\"models:/{model_name}/{model_version}\"\n",
    "model = mlflow.pyfunc.load_model(model_uri=model_uri)\n",
    "model.predict(input_X)\n",
    "```\n",
    "\n",
    "### Load model without registering\n",
    "```\n",
    "model_uri = f\"runs:/{ mlflow_run.info.run_id }/model\"\n",
    "\n",
    "model = mlflow.pyfunc.load_model(model_uri=model_uri)\n",
    "model.predict(input_X)\n",
    "```"
   ]
  },
  {
   "cell_type": "code",
   "execution_count": 0,
   "metadata": {
    "application/vnd.databricks.v1+cell": {
     "cellMetadata": {},
     "inputWidgets": {},
     "nuid": "741768a6-fdab-4ef0-b3ad-0726e7e02c14",
     "showTitle": false,
     "title": ""
    },
    "execution": {
     "iopub.execute_input": "2023-06-13T06:29:48.521838Z",
     "iopub.status.busy": "2023-06-13T06:29:48.521294Z",
     "iopub.status.idle": "2023-06-13T06:29:48.525615Z",
     "shell.execute_reply": "2023-06-13T06:29:48.524904Z"
    }
   },
   "outputs": [],
   "source": [
    "# model_uri for the generated model\n",
    "print(f\"runs:/{ mlflow_run.info.run_id }/model\")"
   ]
  }
 ],
 "metadata": {
  "application/vnd.databricks.v1+notebook": {
   "dashboards": [],
   "language": "python",
   "notebookMetadata": {},
   "notebookName": "23-06-13-06:09-XGBoostRegressor-eeebd48ded0707d65b77f7887eed94cb",
   "widgets": {}
  },
  "language_info": {
   "codemirror_mode": {
    "name": "ipython",
    "version": 3
   },
   "file_extension": ".py",
   "mimetype": "text/x-python",
   "name": "python",
   "nbconvert_exporter": "python",
   "pygments_lexer": "ipython3",
   "version": "3.10.6"
  },
  "name": "XGBoostRegressor-eeebd48ded0707d65b77f7887eed94cb"
 },
 "nbformat": 4,
 "nbformat_minor": 0
}
